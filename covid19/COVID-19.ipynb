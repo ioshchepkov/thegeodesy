{
 "cells": [
  {
   "cell_type": "code",
   "execution_count": 1,
   "metadata": {},
   "outputs": [],
   "source": [
    "import pandas as pd\n",
    "import numpy as np\n",
    "import matplotlib.pyplot as plt\n",
    "from matplotlib.dates import WeekdayLocator, DateFormatter\n",
    "from scipy.optimize import curve_fit"
   ]
  },
  {
   "cell_type": "code",
   "execution_count": 2,
   "metadata": {},
   "outputs": [
    {
     "data": {
      "text/plain": [
       "'Вычисления выполнены 2020-04-01 12:37:21.404917'"
      ]
     },
     "execution_count": 2,
     "metadata": {},
     "output_type": "execute_result"
    }
   ],
   "source": [
    "today = pd.Timestamp.today()\n",
    "'Вычисления выполнены {}'.format(today)"
   ]
  },
  {
   "cell_type": "markdown",
   "metadata": {},
   "source": [
    "# Исходные данные"
   ]
  },
  {
   "cell_type": "markdown",
   "metadata": {},
   "source": [
    "Мы воспользуемся открытыми глобальными данными [Университета Джонса Хопкинса](https://coronavirus.jhu.edu/).\n",
    "\n",
    "Исходные данные получим из репозитория  Johns Hopkins CSSE: [CSSEGISandData/COVID-19](https://github.com/CSSEGISandData/COVID-19)\n",
    "\n",
    "Мы загружаем данные о заражённых, умерших и выздоровевших по странам. Они обновляются каждые сутки, поэтому можно будет следить за динамикой, просто запуская этот Jupyter Notebook раз в день."
   ]
  },
  {
   "cell_type": "code",
   "execution_count": 3,
   "metadata": {},
   "outputs": [
    {
     "data": {
      "text/html": [
       "<div>\n",
       "<style scoped>\n",
       "    .dataframe tbody tr th:only-of-type {\n",
       "        vertical-align: middle;\n",
       "    }\n",
       "\n",
       "    .dataframe tbody tr th {\n",
       "        vertical-align: top;\n",
       "    }\n",
       "\n",
       "    .dataframe thead th {\n",
       "        text-align: right;\n",
       "    }\n",
       "</style>\n",
       "<table border=\"1\" class=\"dataframe\">\n",
       "  <thead>\n",
       "    <tr style=\"text-align: right;\">\n",
       "      <th></th>\n",
       "      <th>Province/State</th>\n",
       "      <th>Country/Region</th>\n",
       "      <th>Lat</th>\n",
       "      <th>Long</th>\n",
       "      <th>1/22/20</th>\n",
       "      <th>1/23/20</th>\n",
       "      <th>1/24/20</th>\n",
       "      <th>1/25/20</th>\n",
       "      <th>1/26/20</th>\n",
       "      <th>1/27/20</th>\n",
       "      <th>...</th>\n",
       "      <th>3/22/20</th>\n",
       "      <th>3/23/20</th>\n",
       "      <th>3/24/20</th>\n",
       "      <th>3/25/20</th>\n",
       "      <th>3/26/20</th>\n",
       "      <th>3/27/20</th>\n",
       "      <th>3/28/20</th>\n",
       "      <th>3/29/20</th>\n",
       "      <th>3/30/20</th>\n",
       "      <th>3/31/20</th>\n",
       "    </tr>\n",
       "  </thead>\n",
       "  <tbody>\n",
       "    <tr>\n",
       "      <th>0</th>\n",
       "      <td>NaN</td>\n",
       "      <td>Afghanistan</td>\n",
       "      <td>33.0000</td>\n",
       "      <td>65.0000</td>\n",
       "      <td>0</td>\n",
       "      <td>0</td>\n",
       "      <td>0</td>\n",
       "      <td>0</td>\n",
       "      <td>0</td>\n",
       "      <td>0</td>\n",
       "      <td>...</td>\n",
       "      <td>40</td>\n",
       "      <td>40</td>\n",
       "      <td>74</td>\n",
       "      <td>84</td>\n",
       "      <td>94</td>\n",
       "      <td>110</td>\n",
       "      <td>110</td>\n",
       "      <td>120</td>\n",
       "      <td>170</td>\n",
       "      <td>174</td>\n",
       "    </tr>\n",
       "    <tr>\n",
       "      <th>1</th>\n",
       "      <td>NaN</td>\n",
       "      <td>Albania</td>\n",
       "      <td>41.1533</td>\n",
       "      <td>20.1683</td>\n",
       "      <td>0</td>\n",
       "      <td>0</td>\n",
       "      <td>0</td>\n",
       "      <td>0</td>\n",
       "      <td>0</td>\n",
       "      <td>0</td>\n",
       "      <td>...</td>\n",
       "      <td>89</td>\n",
       "      <td>104</td>\n",
       "      <td>123</td>\n",
       "      <td>146</td>\n",
       "      <td>174</td>\n",
       "      <td>186</td>\n",
       "      <td>197</td>\n",
       "      <td>212</td>\n",
       "      <td>223</td>\n",
       "      <td>243</td>\n",
       "    </tr>\n",
       "    <tr>\n",
       "      <th>2</th>\n",
       "      <td>NaN</td>\n",
       "      <td>Algeria</td>\n",
       "      <td>28.0339</td>\n",
       "      <td>1.6596</td>\n",
       "      <td>0</td>\n",
       "      <td>0</td>\n",
       "      <td>0</td>\n",
       "      <td>0</td>\n",
       "      <td>0</td>\n",
       "      <td>0</td>\n",
       "      <td>...</td>\n",
       "      <td>201</td>\n",
       "      <td>230</td>\n",
       "      <td>264</td>\n",
       "      <td>302</td>\n",
       "      <td>367</td>\n",
       "      <td>409</td>\n",
       "      <td>454</td>\n",
       "      <td>511</td>\n",
       "      <td>584</td>\n",
       "      <td>716</td>\n",
       "    </tr>\n",
       "    <tr>\n",
       "      <th>3</th>\n",
       "      <td>NaN</td>\n",
       "      <td>Andorra</td>\n",
       "      <td>42.5063</td>\n",
       "      <td>1.5218</td>\n",
       "      <td>0</td>\n",
       "      <td>0</td>\n",
       "      <td>0</td>\n",
       "      <td>0</td>\n",
       "      <td>0</td>\n",
       "      <td>0</td>\n",
       "      <td>...</td>\n",
       "      <td>113</td>\n",
       "      <td>133</td>\n",
       "      <td>164</td>\n",
       "      <td>188</td>\n",
       "      <td>224</td>\n",
       "      <td>267</td>\n",
       "      <td>308</td>\n",
       "      <td>334</td>\n",
       "      <td>370</td>\n",
       "      <td>376</td>\n",
       "    </tr>\n",
       "    <tr>\n",
       "      <th>4</th>\n",
       "      <td>NaN</td>\n",
       "      <td>Angola</td>\n",
       "      <td>-11.2027</td>\n",
       "      <td>17.8739</td>\n",
       "      <td>0</td>\n",
       "      <td>0</td>\n",
       "      <td>0</td>\n",
       "      <td>0</td>\n",
       "      <td>0</td>\n",
       "      <td>0</td>\n",
       "      <td>...</td>\n",
       "      <td>2</td>\n",
       "      <td>3</td>\n",
       "      <td>3</td>\n",
       "      <td>3</td>\n",
       "      <td>4</td>\n",
       "      <td>4</td>\n",
       "      <td>5</td>\n",
       "      <td>7</td>\n",
       "      <td>7</td>\n",
       "      <td>7</td>\n",
       "    </tr>\n",
       "  </tbody>\n",
       "</table>\n",
       "<p>5 rows × 74 columns</p>\n",
       "</div>"
      ],
      "text/plain": [
       "  Province/State Country/Region      Lat     Long  1/22/20  1/23/20  1/24/20  \\\n",
       "0            NaN    Afghanistan  33.0000  65.0000        0        0        0   \n",
       "1            NaN        Albania  41.1533  20.1683        0        0        0   \n",
       "2            NaN        Algeria  28.0339   1.6596        0        0        0   \n",
       "3            NaN        Andorra  42.5063   1.5218        0        0        0   \n",
       "4            NaN         Angola -11.2027  17.8739        0        0        0   \n",
       "\n",
       "   1/25/20  1/26/20  1/27/20  ...  3/22/20  3/23/20  3/24/20  3/25/20  \\\n",
       "0        0        0        0  ...       40       40       74       84   \n",
       "1        0        0        0  ...       89      104      123      146   \n",
       "2        0        0        0  ...      201      230      264      302   \n",
       "3        0        0        0  ...      113      133      164      188   \n",
       "4        0        0        0  ...        2        3        3        3   \n",
       "\n",
       "   3/26/20  3/27/20  3/28/20  3/29/20  3/30/20  3/31/20  \n",
       "0       94      110      110      120      170      174  \n",
       "1      174      186      197      212      223      243  \n",
       "2      367      409      454      511      584      716  \n",
       "3      224      267      308      334      370      376  \n",
       "4        4        4        5        7        7        7  \n",
       "\n",
       "[5 rows x 74 columns]"
      ]
     },
     "execution_count": 3,
     "metadata": {},
     "output_type": "execute_result"
    }
   ],
   "source": [
    "confirmed_url = 'https://raw.githubusercontent.com/CSSEGISandData/COVID-19/master/csse_covid_19_data/csse_covid_19_time_series/time_series_covid19_confirmed_global.csv'\n",
    "deaths_url = 'https://raw.githubusercontent.com/CSSEGISandData/COVID-19/master/csse_covid_19_data/csse_covid_19_time_series/time_series_covid19_deaths_global.csv'\n",
    "recovered_url = 'https://raw.githubusercontent.com/CSSEGISandData/COVID-19/master/csse_covid_19_data/csse_covid_19_time_series/time_series_covid19_recovered_global.csv'\n",
    "\n",
    "confirmed_data = pd.read_csv(confirmed_url)\n",
    "deaths_data = pd.read_csv(deaths_url)\n",
    "recovered_data = pd.read_csv(recovered_url)\n",
    "\n",
    "confirmed_data.head()"
   ]
  },
  {
   "cell_type": "markdown",
   "metadata": {},
   "source": [
    "Напишем функцию для преобразования данных к удобному для анализа виду. \n",
    "\n",
    "1. Избавимся от ненужных столбцов: `drop(['Province/State', 'Lat', 'Long'], axis=1)`.\n",
    "2. Найдём сумму всех случаев заражений по каждой стране, то есть исключим деление на штаты/районы/провинции: `groupby(by='Country/Region').sum()`.\n",
    "3. Транспонируем таблицу `transpose()`, чтобы даты стали столбцом `'date'`, а названия стран стали столбцами.\n",
    "4. Столбец с датами делаем индексом, таким образом получаем полноценный временной ряд.\n",
    "\n",
    "Поскольку эту операцию нужно проделать со всеми таблицами, то напишем сначала функцию, а затем применим её к исходным данным."
   ]
  },
  {
   "cell_type": "code",
   "execution_count": 4,
   "metadata": {},
   "outputs": [
    {
     "data": {
      "text/html": [
       "<div>\n",
       "<style scoped>\n",
       "    .dataframe tbody tr th:only-of-type {\n",
       "        vertical-align: middle;\n",
       "    }\n",
       "\n",
       "    .dataframe tbody tr th {\n",
       "        vertical-align: top;\n",
       "    }\n",
       "\n",
       "    .dataframe thead th {\n",
       "        text-align: right;\n",
       "    }\n",
       "</style>\n",
       "<table border=\"1\" class=\"dataframe\">\n",
       "  <thead>\n",
       "    <tr style=\"text-align: right;\">\n",
       "      <th>Country/Region</th>\n",
       "      <th>Afghanistan</th>\n",
       "      <th>Albania</th>\n",
       "      <th>Algeria</th>\n",
       "      <th>Andorra</th>\n",
       "      <th>Angola</th>\n",
       "      <th>Antigua and Barbuda</th>\n",
       "      <th>Argentina</th>\n",
       "      <th>Armenia</th>\n",
       "      <th>Australia</th>\n",
       "      <th>Austria</th>\n",
       "      <th>...</th>\n",
       "      <th>Ukraine</th>\n",
       "      <th>United Arab Emirates</th>\n",
       "      <th>United Kingdom</th>\n",
       "      <th>Uruguay</th>\n",
       "      <th>Uzbekistan</th>\n",
       "      <th>Venezuela</th>\n",
       "      <th>Vietnam</th>\n",
       "      <th>West Bank and Gaza</th>\n",
       "      <th>Zambia</th>\n",
       "      <th>Zimbabwe</th>\n",
       "    </tr>\n",
       "    <tr>\n",
       "      <th>Дата</th>\n",
       "      <th></th>\n",
       "      <th></th>\n",
       "      <th></th>\n",
       "      <th></th>\n",
       "      <th></th>\n",
       "      <th></th>\n",
       "      <th></th>\n",
       "      <th></th>\n",
       "      <th></th>\n",
       "      <th></th>\n",
       "      <th></th>\n",
       "      <th></th>\n",
       "      <th></th>\n",
       "      <th></th>\n",
       "      <th></th>\n",
       "      <th></th>\n",
       "      <th></th>\n",
       "      <th></th>\n",
       "      <th></th>\n",
       "      <th></th>\n",
       "      <th></th>\n",
       "    </tr>\n",
       "  </thead>\n",
       "  <tbody>\n",
       "    <tr>\n",
       "      <th>2020-03-27</th>\n",
       "      <td>110</td>\n",
       "      <td>186</td>\n",
       "      <td>409</td>\n",
       "      <td>267</td>\n",
       "      <td>4</td>\n",
       "      <td>7</td>\n",
       "      <td>589</td>\n",
       "      <td>329</td>\n",
       "      <td>3143</td>\n",
       "      <td>7657</td>\n",
       "      <td>...</td>\n",
       "      <td>310</td>\n",
       "      <td>405</td>\n",
       "      <td>14745</td>\n",
       "      <td>238</td>\n",
       "      <td>88</td>\n",
       "      <td>107</td>\n",
       "      <td>163</td>\n",
       "      <td>91</td>\n",
       "      <td>22</td>\n",
       "      <td>5</td>\n",
       "    </tr>\n",
       "    <tr>\n",
       "      <th>2020-03-28</th>\n",
       "      <td>110</td>\n",
       "      <td>197</td>\n",
       "      <td>454</td>\n",
       "      <td>308</td>\n",
       "      <td>5</td>\n",
       "      <td>7</td>\n",
       "      <td>690</td>\n",
       "      <td>407</td>\n",
       "      <td>3640</td>\n",
       "      <td>8271</td>\n",
       "      <td>...</td>\n",
       "      <td>356</td>\n",
       "      <td>468</td>\n",
       "      <td>17312</td>\n",
       "      <td>274</td>\n",
       "      <td>104</td>\n",
       "      <td>119</td>\n",
       "      <td>174</td>\n",
       "      <td>98</td>\n",
       "      <td>28</td>\n",
       "      <td>7</td>\n",
       "    </tr>\n",
       "    <tr>\n",
       "      <th>2020-03-29</th>\n",
       "      <td>120</td>\n",
       "      <td>212</td>\n",
       "      <td>511</td>\n",
       "      <td>334</td>\n",
       "      <td>7</td>\n",
       "      <td>7</td>\n",
       "      <td>745</td>\n",
       "      <td>424</td>\n",
       "      <td>3984</td>\n",
       "      <td>8788</td>\n",
       "      <td>...</td>\n",
       "      <td>475</td>\n",
       "      <td>570</td>\n",
       "      <td>19780</td>\n",
       "      <td>304</td>\n",
       "      <td>144</td>\n",
       "      <td>119</td>\n",
       "      <td>188</td>\n",
       "      <td>109</td>\n",
       "      <td>29</td>\n",
       "      <td>7</td>\n",
       "    </tr>\n",
       "    <tr>\n",
       "      <th>2020-03-30</th>\n",
       "      <td>170</td>\n",
       "      <td>223</td>\n",
       "      <td>584</td>\n",
       "      <td>370</td>\n",
       "      <td>7</td>\n",
       "      <td>7</td>\n",
       "      <td>820</td>\n",
       "      <td>482</td>\n",
       "      <td>4361</td>\n",
       "      <td>9618</td>\n",
       "      <td>...</td>\n",
       "      <td>548</td>\n",
       "      <td>611</td>\n",
       "      <td>22453</td>\n",
       "      <td>310</td>\n",
       "      <td>149</td>\n",
       "      <td>135</td>\n",
       "      <td>203</td>\n",
       "      <td>116</td>\n",
       "      <td>35</td>\n",
       "      <td>7</td>\n",
       "    </tr>\n",
       "    <tr>\n",
       "      <th>2020-03-31</th>\n",
       "      <td>174</td>\n",
       "      <td>243</td>\n",
       "      <td>716</td>\n",
       "      <td>376</td>\n",
       "      <td>7</td>\n",
       "      <td>7</td>\n",
       "      <td>1054</td>\n",
       "      <td>532</td>\n",
       "      <td>4559</td>\n",
       "      <td>10180</td>\n",
       "      <td>...</td>\n",
       "      <td>645</td>\n",
       "      <td>664</td>\n",
       "      <td>25481</td>\n",
       "      <td>338</td>\n",
       "      <td>172</td>\n",
       "      <td>135</td>\n",
       "      <td>212</td>\n",
       "      <td>119</td>\n",
       "      <td>35</td>\n",
       "      <td>8</td>\n",
       "    </tr>\n",
       "  </tbody>\n",
       "</table>\n",
       "<p>5 rows × 180 columns</p>\n",
       "</div>"
      ],
      "text/plain": [
       "Country/Region  Afghanistan  Albania  Algeria  Andorra  Angola  \\\n",
       "Дата                                                             \n",
       "2020-03-27              110      186      409      267       4   \n",
       "2020-03-28              110      197      454      308       5   \n",
       "2020-03-29              120      212      511      334       7   \n",
       "2020-03-30              170      223      584      370       7   \n",
       "2020-03-31              174      243      716      376       7   \n",
       "\n",
       "Country/Region  Antigua and Barbuda  Argentina  Armenia  Australia  Austria  \\\n",
       "Дата                                                                          \n",
       "2020-03-27                        7        589      329       3143     7657   \n",
       "2020-03-28                        7        690      407       3640     8271   \n",
       "2020-03-29                        7        745      424       3984     8788   \n",
       "2020-03-30                        7        820      482       4361     9618   \n",
       "2020-03-31                        7       1054      532       4559    10180   \n",
       "\n",
       "Country/Region  ...  Ukraine  United Arab Emirates  United Kingdom  Uruguay  \\\n",
       "Дата            ...                                                           \n",
       "2020-03-27      ...      310                   405           14745      238   \n",
       "2020-03-28      ...      356                   468           17312      274   \n",
       "2020-03-29      ...      475                   570           19780      304   \n",
       "2020-03-30      ...      548                   611           22453      310   \n",
       "2020-03-31      ...      645                   664           25481      338   \n",
       "\n",
       "Country/Region  Uzbekistan  Venezuela  Vietnam  West Bank and Gaza  Zambia  \\\n",
       "Дата                                                                         \n",
       "2020-03-27              88        107      163                  91      22   \n",
       "2020-03-28             104        119      174                  98      28   \n",
       "2020-03-29             144        119      188                 109      29   \n",
       "2020-03-30             149        135      203                 116      35   \n",
       "2020-03-31             172        135      212                 119      35   \n",
       "\n",
       "Country/Region  Zimbabwe  \n",
       "Дата                      \n",
       "2020-03-27             5  \n",
       "2020-03-28             7  \n",
       "2020-03-29             7  \n",
       "2020-03-30             7  \n",
       "2020-03-31             8  \n",
       "\n",
       "[5 rows x 180 columns]"
      ]
     },
     "execution_count": 4,
     "metadata": {},
     "output_type": "execute_result"
    }
   ],
   "source": [
    "def transform_data(data):\n",
    "    data = (data\n",
    "             .drop(['Province/State', 'Lat', 'Long'], axis=1)\n",
    "             .groupby(by='Country/Region').sum()\n",
    "             .transpose()\n",
    "             .rename({'Country/Region' : 'date'})\n",
    "            )\n",
    "\n",
    "    data.index = pd.to_datetime(data.index)\n",
    "    data.index.name = 'Дата'\n",
    "    return data\n",
    "\n",
    "confirmed = transform_data(confirmed_data.copy())\n",
    "deaths = transform_data(deaths_data.copy())\n",
    "recovered = transform_data(recovered_data.copy())\n",
    "\n",
    "confirmed.tail()"
   ]
  },
  {
   "cell_type": "code",
   "execution_count": 5,
   "metadata": {},
   "outputs": [],
   "source": [
    "cases_global = pd.DataFrame({\n",
    "    'Заболевшие': confirmed.sum(axis='columns'),\n",
    "    'Умершие': deaths.sum(axis='columns'),\n",
    "    'Выздоровевшие': recovered.sum(axis='columns')})"
   ]
  },
  {
   "cell_type": "markdown",
   "metadata": {},
   "source": [
    "# Изучаем данные"
   ]
  },
  {
   "cell_type": "markdown",
   "metadata": {},
   "source": [
    "## Глобальные показатели\n",
    "\n",
    "Важной описательной статистикой для эпидемий является летальность и смертность. \n",
    "\n",
    "* **Летальность** заболевания это отношение смертей к общему числу заболевших. \n",
    "* **Смертность** заболевания это отношение умерших к средней численности популяции.\n",
    "\n",
    "Окончательные показатели летальности и смертности можно будет вычислить только после того как пандемия закончится и будут опубликованы официальные окончательные цифры. Однако ничто не мешает следить за текущей статистикой.\n",
    "\n",
    "Вычисляем летальность (англ. case fatality rate):"
   ]
  },
  {
   "cell_type": "code",
   "execution_count": 6,
   "metadata": {},
   "outputs": [
    {
     "data": {
      "text/plain": [
       "'Летальность: 4.91%'"
      ]
     },
     "execution_count": 6,
     "metadata": {},
     "output_type": "execute_result"
    }
   ],
   "source": [
    "cfr = (cases_global['Умершие'] / cases_global['Заболевшие'])\n",
    "'Летальность: {:.2f}%'.format(np.around(float(cfr.tail(1)) * 100, 2))"
   ]
  },
  {
   "cell_type": "markdown",
   "metadata": {},
   "source": [
    "Эти цифры можно сравнить с другими заболеваниями: [List of human disease case fatality rates](https://en.wikipedia.org/wiki/List_of_human_disease_case_fatality_rates)\n",
    "\n",
    "На данный момент коронавирус более летален, чем любой из известных гриппов (у сезонного < 0.1%) и, например, малярия (~0.3%). Однако можно ожидать, что летальность в итоге уменьшится, особенно когда будут проведены оценки невыявленных случаев. \n",
    "\n",
    "Тем не менее, **сейчас цифры очень серьезные**."
   ]
  },
  {
   "cell_type": "markdown",
   "metadata": {},
   "source": [
    "Смертность обычно оценивают в промилле ‰, то есть в тысячной доле (процент это сотая доля). Мы возьмём приблизительную численность населения планеты в 7,7 млрд. человек."
   ]
  },
  {
   "cell_type": "code",
   "execution_count": 7,
   "metadata": {},
   "outputs": [
    {
     "data": {
      "text/plain": [
       "'Смертность: 0.00547‰'"
      ]
     },
     "execution_count": 7,
     "metadata": {},
     "output_type": "execute_result"
    }
   ],
   "source": [
    "world_population = 7.7e9\n",
    "mortality_rate = cases_global['Умершие'] / world_population\n",
    "'Смертность: {:.5f}‰'.format(float(mortality_rate.tail(1)) * 1000)"
   ]
  },
  {
   "cell_type": "markdown",
   "metadata": {},
   "source": [
    "А сколько всего человек заболело от общей численности населения?"
   ]
  },
  {
   "cell_type": "code",
   "execution_count": 8,
   "metadata": {},
   "outputs": [
    {
     "data": {
      "text/plain": [
       "'Заразились 857487 чел., это 0.01114% от населения планеты.'"
      ]
     },
     "execution_count": 8,
     "metadata": {},
     "output_type": "execute_result"
    }
   ],
   "source": [
    "confirmed_perc = cases_global['Заболевшие'] / world_population\n",
    "('Заразились {} чел., это {:.5f}% от ' \n",
    " 'населения планеты.'.format(int(cases_global['Заболевшие'].tail(1)),\n",
    "                                                    float(confirmed_perc.tail(1)) * 100))"
   ]
  },
  {
   "cell_type": "markdown",
   "metadata": {},
   "source": [
    "По сравнению с летальностью, смертность реже используется для характеристики эпидемии и пандемии. Оно и понятно, когда станет ясно, что смертность высокая, будет уже поздно принимать меры. Это же касатеся и прочих оценок, полученных как  отношение к общей численности населения.\n",
    "\n",
    "Теперь пора построить графики. Сначала напишем общую для всех них функцию."
   ]
  },
  {
   "cell_type": "code",
   "execution_count": 9,
   "metadata": {},
   "outputs": [],
   "source": [
    "def plot_cases(df, **kwargs):\n",
    "    ax = df.plot(figsize=(8, 4), grid=True)\n",
    "    ax.set(**kwargs)\n",
    "    \n",
    "    ax.set_ylabel('Число человек')\n",
    "    ax.xaxis.set_minor_formatter(plt.NullFormatter())\n",
    "    ax.xaxis.set_major_locator(WeekdayLocator(interval=1))\n",
    "    ax.xaxis.set_major_formatter(DateFormatter('%b %d'))\n",
    "    return ax"
   ]
  },
  {
   "cell_type": "code",
   "execution_count": 10,
   "metadata": {},
   "outputs": [
    {
     "data": {
      "text/plain": [
       "<matplotlib.axes._subplots.AxesSubplot at 0x7f2ec2568550>"
      ]
     },
     "execution_count": 10,
     "metadata": {},
     "output_type": "execute_result"
    },
    {
     "data": {
      "image/png": "[encoded data removed]",
      "text/plain": [
       "<Figure size 576x288 with 1 Axes>"
      ]
     },
     "metadata": {
      "needs_background": "light"
     },
     "output_type": "display_data"
    }
   ],
   "source": [
    "%matplotlib inline\n",
    "plot_cases(cases_global, title='COVID-19')"
   ]
  },
  {
   "cell_type": "code",
   "execution_count": 11,
   "metadata": {},
   "outputs": [
    {
     "data": {
      "text/plain": [
       "Text(0, 0.5, 'Летальность, %')"
      ]
     },
     "execution_count": 11,
     "metadata": {},
     "output_type": "execute_result"
    },
    {
     "data": {
      "image/png": "[encoded data removed]",
      "text/plain": [
       "<Figure size 576x288 with 1 Axes>"
      ]
     },
     "metadata": {
      "needs_background": "light"
     },
     "output_type": "display_data"
    }
   ],
   "source": [
    "ax = plot_cases(cfr*100, title='Летальность COVID-19')\n",
    "ax.set_ylabel('Летальность, %')"
   ]
  },
  {
   "cell_type": "code",
   "execution_count": 12,
   "metadata": {},
   "outputs": [
    {
     "data": {
      "text/plain": [
       "<matplotlib.axes._subplots.AxesSubplot at 0x7f2ec04150d0>"
      ]
     },
     "execution_count": 12,
     "metadata": {},
     "output_type": "execute_result"
    },
    {
     "data": {
      "image/png": "[encoded data removed]",
      "text/plain": [
       "<Figure size 576x288 with 1 Axes>"
      ]
     },
     "metadata": {
      "needs_background": "light"
     },
     "output_type": "display_data"
    }
   ],
   "source": [
    "plot_cases(cases_global.diff(), title='Данные по COVID-19 за сутки')"
   ]
  },
  {
   "cell_type": "code",
   "execution_count": 13,
   "metadata": {},
   "outputs": [
    {
     "data": {
      "image/png": "[encoded data removed]",
      "text/plain": [
       "<Figure size 936x216 with 3 Axes>"
      ]
     },
     "metadata": {
      "needs_background": "light"
     },
     "output_type": "display_data"
    }
   ],
   "source": [
    "fig, (ax1, ax2, ax3) = plt.subplots(1, 3, figsize=(13, 3))\n",
    "ax1.plot(cases_global['Заболевшие'], cases_global['Заболевшие'].diff())\n",
    "ax2.plot(cases_global['Заболевшие'], cases_global['Умершие'].diff())\n",
    "ax3.plot(cases_global['Заболевшие'], cases_global['Выздоровевшие'].diff())\n",
    "\n",
    "for ax in fig.get_axes():\n",
    "    ax.set_xlabel('Заболевшие')\n",
    "\n",
    "ax1.set_ylabel('Число заболевших за сутки')\n",
    "ax2.set_ylabel('Число умерших за сутки')\n",
    "ax3.set_ylabel('Число выздоровевших за сутки')\n",
    "\n",
    "fig.tight_layout()"
   ]
  },
  {
   "cell_type": "markdown",
   "metadata": {},
   "source": [
    "## Данные по лидирующим странам"
   ]
  },
  {
   "cell_type": "code",
   "execution_count": 14,
   "metadata": {},
   "outputs": [],
   "source": [
    "def get_top_countries_names(top):\n",
    "    ranked = confirmed.tail(1).rank(axis='columns', ascending=False)\n",
    "    top_countries = ranked.columns[(ranked <= top).values[0]]\n",
    "    top_countries = top_countries[np.argsort(ranked[top_countries].values)[0]]\n",
    "    return top_countries"
   ]
  },
  {
   "cell_type": "code",
   "execution_count": 15,
   "metadata": {},
   "outputs": [
    {
     "data": {
      "text/html": [
       "<div>\n",
       "<style scoped>\n",
       "    .dataframe tbody tr th:only-of-type {\n",
       "        vertical-align: middle;\n",
       "    }\n",
       "\n",
       "    .dataframe tbody tr th {\n",
       "        vertical-align: top;\n",
       "    }\n",
       "\n",
       "    .dataframe thead th {\n",
       "        text-align: right;\n",
       "    }\n",
       "</style>\n",
       "<table border=\"1\" class=\"dataframe\">\n",
       "  <thead>\n",
       "    <tr style=\"text-align: right;\">\n",
       "      <th>Country/Region</th>\n",
       "      <th>US</th>\n",
       "      <th>Italy</th>\n",
       "      <th>Spain</th>\n",
       "      <th>China</th>\n",
       "      <th>Germany</th>\n",
       "      <th>France</th>\n",
       "      <th>Iran</th>\n",
       "      <th>United Kingdom</th>\n",
       "      <th>Switzerland</th>\n",
       "      <th>Turkey</th>\n",
       "    </tr>\n",
       "    <tr>\n",
       "      <th>Дата</th>\n",
       "      <th></th>\n",
       "      <th></th>\n",
       "      <th></th>\n",
       "      <th></th>\n",
       "      <th></th>\n",
       "      <th></th>\n",
       "      <th></th>\n",
       "      <th></th>\n",
       "      <th></th>\n",
       "      <th></th>\n",
       "    </tr>\n",
       "  </thead>\n",
       "  <tbody>\n",
       "    <tr>\n",
       "      <th>2020-03-27</th>\n",
       "      <td>101657</td>\n",
       "      <td>86498</td>\n",
       "      <td>65719</td>\n",
       "      <td>81897</td>\n",
       "      <td>50871</td>\n",
       "      <td>33402</td>\n",
       "      <td>32332</td>\n",
       "      <td>14745</td>\n",
       "      <td>12928</td>\n",
       "      <td>5698</td>\n",
       "    </tr>\n",
       "    <tr>\n",
       "      <th>2020-03-28</th>\n",
       "      <td>121478</td>\n",
       "      <td>92472</td>\n",
       "      <td>73235</td>\n",
       "      <td>81999</td>\n",
       "      <td>57695</td>\n",
       "      <td>38105</td>\n",
       "      <td>35408</td>\n",
       "      <td>17312</td>\n",
       "      <td>14076</td>\n",
       "      <td>7402</td>\n",
       "    </tr>\n",
       "    <tr>\n",
       "      <th>2020-03-29</th>\n",
       "      <td>140886</td>\n",
       "      <td>97689</td>\n",
       "      <td>80110</td>\n",
       "      <td>82122</td>\n",
       "      <td>62095</td>\n",
       "      <td>40708</td>\n",
       "      <td>38309</td>\n",
       "      <td>19780</td>\n",
       "      <td>14829</td>\n",
       "      <td>9217</td>\n",
       "    </tr>\n",
       "    <tr>\n",
       "      <th>2020-03-30</th>\n",
       "      <td>161807</td>\n",
       "      <td>101739</td>\n",
       "      <td>87956</td>\n",
       "      <td>82198</td>\n",
       "      <td>66885</td>\n",
       "      <td>45170</td>\n",
       "      <td>41495</td>\n",
       "      <td>22453</td>\n",
       "      <td>15922</td>\n",
       "      <td>10827</td>\n",
       "    </tr>\n",
       "    <tr>\n",
       "      <th>2020-03-31</th>\n",
       "      <td>188172</td>\n",
       "      <td>105792</td>\n",
       "      <td>95923</td>\n",
       "      <td>82279</td>\n",
       "      <td>71808</td>\n",
       "      <td>52827</td>\n",
       "      <td>44605</td>\n",
       "      <td>25481</td>\n",
       "      <td>16605</td>\n",
       "      <td>13531</td>\n",
       "    </tr>\n",
       "  </tbody>\n",
       "</table>\n",
       "</div>"
      ],
      "text/plain": [
       "Country/Region      US   Italy  Spain  China  Germany  France   Iran  \\\n",
       "Дата                                                                   \n",
       "2020-03-27      101657   86498  65719  81897    50871   33402  32332   \n",
       "2020-03-28      121478   92472  73235  81999    57695   38105  35408   \n",
       "2020-03-29      140886   97689  80110  82122    62095   40708  38309   \n",
       "2020-03-30      161807  101739  87956  82198    66885   45170  41495   \n",
       "2020-03-31      188172  105792  95923  82279    71808   52827  44605   \n",
       "\n",
       "Country/Region  United Kingdom  Switzerland  Turkey  \n",
       "Дата                                                 \n",
       "2020-03-27               14745        12928    5698  \n",
       "2020-03-28               17312        14076    7402  \n",
       "2020-03-29               19780        14829    9217  \n",
       "2020-03-30               22453        15922   10827  \n",
       "2020-03-31               25481        16605   13531  "
      ]
     },
     "execution_count": 15,
     "metadata": {},
     "output_type": "execute_result"
    }
   ],
   "source": [
    "top = 10\n",
    "top_countries = get_top_countries_names(top)\n",
    "confirmed[top_countries].tail()"
   ]
  },
  {
   "cell_type": "code",
   "execution_count": 16,
   "metadata": {},
   "outputs": [
    {
     "data": {
      "text/plain": [
       "<matplotlib.axes._subplots.AxesSubplot at 0x7f2ec00c92b0>"
      ]
     },
     "execution_count": 16,
     "metadata": {},
     "output_type": "execute_result"
    },
    {
     "data": {
      "image/png": "[encoded data removed]",
      "text/plain": [
       "<Figure size 576x288 with 1 Axes>"
      ]
     },
     "metadata": {
      "needs_background": "light"
     },
     "output_type": "display_data"
    }
   ],
   "source": [
    "plot_cases(confirmed[top_countries], title='TOP-{} стран по числу заражённых'.format(top))"
   ]
  },
  {
   "cell_type": "markdown",
   "metadata": {},
   "source": [
    "Графики распространения эпидемии во всех странах очень похожи, значит можно попробовать подобрать однотипную модель, описывающую процесс. Посмотрим на то, какая ситуация с числом заражений в день."
   ]
  },
  {
   "cell_type": "code",
   "execution_count": 17,
   "metadata": {},
   "outputs": [
    {
     "data": {
      "text/plain": [
       "<matplotlib.axes._subplots.AxesSubplot at 0x7f2ec00370d0>"
      ]
     },
     "execution_count": 17,
     "metadata": {},
     "output_type": "execute_result"
    },
    {
     "data": {
      "image/png": "[encoded data removed]",
      "text/plain": [
       "<Figure size 576x288 with 1 Axes>"
      ]
     },
     "metadata": {
      "needs_background": "light"
     },
     "output_type": "display_data"
    }
   ],
   "source": [
    "plot_cases(confirmed[top_countries].diff(),\n",
    "           title='Число новых случаев заражения в день в TOP-{} странах'.format(top))"
   ]
  },
  {
   "cell_type": "markdown",
   "metadata": {},
   "source": [
    "Видно, что скорость заражения в некоторых лидирующих странах превзошла аналогичные показатели у Китая. Таким образом, китайская модель довольно благоприятна и оптимистична, но стала она такой благодаря жёстким карантинным мерам.\n",
    "\n",
    "Теперь посмотрим на летальность по лидирующим странам. "
   ]
  },
  {
   "cell_type": "code",
   "execution_count": 18,
   "metadata": {},
   "outputs": [
    {
     "data": {
      "text/html": [
       "<div>\n",
       "<style scoped>\n",
       "    .dataframe tbody tr th:only-of-type {\n",
       "        vertical-align: middle;\n",
       "    }\n",
       "\n",
       "    .dataframe tbody tr th {\n",
       "        vertical-align: top;\n",
       "    }\n",
       "\n",
       "    .dataframe thead th {\n",
       "        text-align: right;\n",
       "    }\n",
       "</style>\n",
       "<table border=\"1\" class=\"dataframe\">\n",
       "  <thead>\n",
       "    <tr style=\"text-align: right;\">\n",
       "      <th>Country/Region</th>\n",
       "      <th>US</th>\n",
       "      <th>Italy</th>\n",
       "      <th>Spain</th>\n",
       "      <th>China</th>\n",
       "      <th>Germany</th>\n",
       "      <th>France</th>\n",
       "      <th>Iran</th>\n",
       "      <th>United Kingdom</th>\n",
       "      <th>Switzerland</th>\n",
       "      <th>Turkey</th>\n",
       "    </tr>\n",
       "    <tr>\n",
       "      <th>Дата</th>\n",
       "      <th></th>\n",
       "      <th></th>\n",
       "      <th></th>\n",
       "      <th></th>\n",
       "      <th></th>\n",
       "      <th></th>\n",
       "      <th></th>\n",
       "      <th></th>\n",
       "      <th></th>\n",
       "      <th></th>\n",
       "    </tr>\n",
       "  </thead>\n",
       "  <tbody>\n",
       "    <tr>\n",
       "      <th>2020-03-31</th>\n",
       "      <td>2.1</td>\n",
       "      <td>11.7</td>\n",
       "      <td>8.8</td>\n",
       "      <td>4.0</td>\n",
       "      <td>1.1</td>\n",
       "      <td>6.7</td>\n",
       "      <td>6.5</td>\n",
       "      <td>7.0</td>\n",
       "      <td>2.6</td>\n",
       "      <td>1.6</td>\n",
       "    </tr>\n",
       "  </tbody>\n",
       "</table>\n",
       "</div>"
      ],
      "text/plain": [
       "Country/Region   US  Italy  Spain  China  Germany  France  Iran  \\\n",
       "Дата                                                              \n",
       "2020-03-31      2.1   11.7    8.8    4.0      1.1     6.7   6.5   \n",
       "\n",
       "Country/Region  United Kingdom  Switzerland  Turkey  \n",
       "Дата                                                 \n",
       "2020-03-31                 7.0          2.6     1.6  "
      ]
     },
     "execution_count": 18,
     "metadata": {},
     "output_type": "execute_result"
    }
   ],
   "source": [
    "((deaths[top_countries] / confirmed[top_countries]).tail(1) * 100).round(1)"
   ]
  },
  {
   "cell_type": "markdown",
   "metadata": {},
   "source": [
    "Виден очень сильный разброс и довольно большое отличие от среднего по всему миру. \n",
    "\n",
    "Посмотрите на Италию, это невероятно огромные цифры по летальности."
   ]
  },
  {
   "cell_type": "markdown",
   "metadata": {},
   "source": [
    "\n",
    "# Модель роста числа заболевших\n",
    "\n",
    "Как на самом деле моделируют эпидемии можно посмотреть в [Википедии](https://en.wikipedia.org/wiki/Compartmental_models_in_epidemiology). \n",
    "\n",
    "Модифицированные модели под COVID-19 можно пощупать [здесь](https://neherlab.org/covid19/?%7B%22population%22%3A%7B%22populationServed%22%3A144000000%2C%22country%22%3A%22Russian%20Federation%22%2C%22hospitalBeds%22%3A1172000%2C%22ICUBeds%22%3A40000%2C%22suspectedCasesToday%22%3A2%2C%22importsPerDay%22%3A5%2C%22cases%22%3A%22Russian%20Federation%22%7D%2C%22epidemiological%22%3A%7B%22r0%22%3A2.7%2C%22incubationTime%22%3A5%2C%22infectiousPeriod%22%3A3%2C%22lengthHospitalStay%22%3A7%2C%22lengthICUStay%22%3A14%2C%22seasonalForcing%22%3A0.2%2C%22peakMonth%22%3A0%2C%22overflowSeverity%22%3A2%7D%2C%22simulation%22%3A%7B%22simulationTimeRange%22%3A%7B%22tMin%22%3A%222020-03-01T08%3A00%3A00.000Z%22%2C%22tMax%22%3A%222020-12-31T08%3A00%3A00.000Z%22%7D%2C%22numberStochasticRuns%22%3A0%7D%2C%22containment%22%3A%5B%7B%22t%22%3A%222020-03-01T08%3A00%3A00.000Z%22%2C%22y%22%3A0.997554347826087%7D%2C%7B%22t%22%3A%222020-04-04T05%3A20%3A00.000Z%22%2C%22y%22%3A0.8317934782608696%7D%2C%7B%22t%22%3A%222020-05-08T02%3A40%3A00.000Z%22%2C%22y%22%3A0.8%7D%2C%7B%22t%22%3A%222020-06-11T00%3A00%3A00.000Z%22%2C%22y%22%3A0.8%7D%2C%7B%22t%22%3A%222020-07-14T21%3A20%3A00.000Z%22%2C%22y%22%3A0.8%7D%2C%7B%22t%22%3A%222020-08-17T18%3A40%3A00.000Z%22%2C%22y%22%3A0.8%7D%2C%7B%22t%22%3A%222020-09-20T16%3A00%3A00.000Z%22%2C%22y%22%3A0.8%7D%2C%7B%22t%22%3A%222020-10-24T13%3A20%3A00.000Z%22%2C%22y%22%3A0.8%7D%2C%7B%22t%22%3A%222020-11-27T10%3A40%3A00.000Z%22%2C%22y%22%3A0.8%7D%2C%7B%22t%22%3A%222020-12-31T08%3A00%3A00.000Z%22%2C%22y%22%3A0.8%7D%5D%2C%22current%22%3A%7B%22overall%22%3A%22Custom%22%2C%22population%22%3A%22Custom%22%2C%22epidemiological%22%3A%22Custom%22%2C%22containment%22%3A%22Weak%20mitigation%22%7D%7D) и [здесь](http://covidsim.eu/). \n",
    "\n",
    "Эти модели хорошо работают, в том числе и для России (с жёстким карантином прогноз очень благоприятный ~10 тыс. заболевших, без него - около миллиона заболевших к середине июня ([источник](https://www.proekt.media/research/koronavirus-regiony/))), но там можно утонуть в параметрах, мы же хотим что-нибудь попроще, но что более или менее будет работать, конечно. По ссылкам загляуть всё же стоит, дабы оценить насколько примитивным будет наш дальнейший подход.\n",
    "\n",
    "Посмотрим внимательно на Китай и Южную Корею."
   ]
  },
  {
   "cell_type": "code",
   "execution_count": 19,
   "metadata": {},
   "outputs": [
    {
     "data": {
      "image/png": "[encoded data removed]",
      "text/plain": [
       "<Figure size 576x288 with 1 Axes>"
      ]
     },
     "metadata": {
      "needs_background": "light"
     },
     "output_type": "display_data"
    }
   ],
   "source": [
    "ax = plot_cases(confirmed[['China', 'Korea, South']],\n",
    "                title='COVID-19 в Китае и Южной Корее'.format(top))"
   ]
  },
  {
   "cell_type": "markdown",
   "metadata": {},
   "source": [
    "В этих странах распространение замедлилось и довольно давно. Обращают на себя две особенности.\n",
    "\n",
    "* Во-первых, график является не экспонентой, а похож на [логистическу S-кривую](https://ru.wikipedia.org/wiki/%D0%9B%D0%BE%D0%B3%D0%B8%D1%81%D1%82%D0%B8%D1%87%D0%B5%D1%81%D0%BA%D0%BE%D0%B5_%D1%83%D1%80%D0%B0%D0%B2%D0%BD%D0%B5%D0%BD%D0%B8%D0%B5), то есть с медленным ростом в начале и в конце, но с быстрым в середине.\n",
    "\n",
    "* Во-вторых, в отличие от логистической кривой, наши графики не являются симметричными: правая часть более пологая и протяжённая.\n",
    "\n",
    "Мы для простоты опустим вторую особенность и перейдём к описанию возможной модели.\n",
    "\n",
    "\n",
    "# Логистическое уравнение и функция\n",
    "\n",
    "Нас интересует обыкновенное дифференциальное уравнение вида\n",
    "$$\\dfrac{d}{dt} y(t) = cy (t) \\left( 1 - \\dfrac{y(t)}{a} \\right),$$\n",
    "которое называется [логистическим или уравнением Ферхюльста](https://en.wikipedia.org/wiki/Logistic_function).\n",
    "\n",
    "* Уравнение связывает скорость $\\frac{d}{dt}y(t)$ заражения с максимально возможным числом заражённых $a$. Параметр $c$ пропорционален скорости.\n",
    "\n",
    "* Поскольку в правой части уравнения находится и число заражённых $y$ и и максимально возможное число заражённых $a$, то и скорость заражения зависит от них.\n",
    "\n",
    "* Когда все будут заражены, то есть $y = a$, выражение в скобках, а значит и вся правая часть, обратится в нуль и рост прекратится.\n",
    "\n",
    "* Когда число зараженных очень мало, то есть $y << a$, выражение в скобках $\\approx 1$,  в этом случае\n",
    "$$\\dfrac{d}{dt} y(t) = cy(t) \\left( 1 - \\dfrac{y(t)}{a} \\right) \\approx cy(t),$$\n",
    "что является дифференциальным уравнением для экспоненциального роста. То есть действительно в начале эпидемии рост похож на экспоненциальный.\n",
    "\n",
    "Решением логистического уравнения служит **логистическая функция**\n",
    "$$ \\boxed{y (t) = \\dfrac{a}{1 + b\\exp\\left(-c t\\right)}}$$\n",
    "где \n",
    "* $y (t)$ является общим числом заражённых в момент времени $t$,\n",
    "\n",
    "* $\\exp(x)$ это экспоненциальная функция $e^x$,\n",
    "\n",
    "* $b$ это параметр, связанный с исходным числом заражённых а момент $t=0$\n",
    "$$y_0 (t = 0) = \\dfrac{a}{1 + b},$$\n",
    "\n",
    "* $c > 0$ является параметром роста,\n",
    "\n",
    "* $e$ это число Эйлера.\n",
    "\n",
    "Параметр роста $c$ можно попробовать соотнести (не знаю, обоснованно ли) с базовым репродуктивным числом $R_0 = 1 / c$, то есть со средним количеством лиц, напрямую инфицированных больным в течение всего заразного периода при условии попадания его в полностью уязвимую популяцию. Уязвимую здесь означает без иммунитета, как раз наша ситуация. Коротко $R_0$ можно назвать заразностью.\n",
    "\n",
    "Легко также найти производную логистической функции\n",
    "$$\\dfrac{d}{dt}y (t) = \\dfrac{abc \\exp{(-ct)}}{(1 + b\\exp{(-ct)})^2}$$.\n",
    "\n",
    "Логистическая функция является симметричной, поэтому максимальная скорость заражения будет тогда, когда будет заражена половина от всех тех, кто может заразиться, то есть \n",
    "$$ y(t) = \\dfrac{c}{2},\\quad t = \\dfrac{\\ln{b}}{c}.$$\n",
    "\n"
   ]
  },
  {
   "cell_type": "code",
   "execution_count": 20,
   "metadata": {},
   "outputs": [],
   "source": [
    "def logistic(t, a, b, c):\n",
    "    \"\"\"Logistic growth.\n",
    "    \"\"\"\n",
    "    return a / (1 + b * np.exp(-c * t))\n",
    "\n",
    "def logistic_deriv(t, a, b, c):\n",
    "    \"\"\"Logistic growth derivation.\n",
    "    \"\"\"\n",
    "    return a * b * c * np.exp(-c * t) / (1 + b * np.exp(-c * t))**2\n",
    "\n",
    "def maximum_rate(b, c):\n",
    "    return np.log(b) / c"
   ]
  },
  {
   "cell_type": "markdown",
   "metadata": {},
   "source": [
    "# Определение параметров модели\n",
    "\n",
    "\n",
    "Посмотрим теперь, как наша модель работает на реальных данных. \n",
    "\n",
    "Нам необходимо определить параметры модели, то есть коэффициенты $a, b ,c$. Сначала приводим необходимые функции."
   ]
  },
  {
   "cell_type": "code",
   "execution_count": 21,
   "metadata": {},
   "outputs": [],
   "source": [
    "def fit_model(\n",
    "    data_model,\n",
    "    bounds=(0, [10e6, 10e6, 1.0]),\n",
    "    p0=[50000, 30, 0.2]):\n",
    "    \n",
    "    data_model = data_model.dropna()\n",
    "    \n",
    "    delta_t0 = (data_model.index.to_julian_date() -\n",
    "                data_model.index[0].to_julian_date())\n",
    "\n",
    "    params, cov = curve_fit(\n",
    "        logistic, delta_t0,\n",
    "        data_model.values,\n",
    "        bounds=bounds, p0=p0,\n",
    "        max_nfev=1e5\n",
    "    )\n",
    "\n",
    "    params_stdev = np.sqrt(np.diag(cov))\n",
    "    \n",
    "    mrt_days = int(maximum_rate(*params[1:]))\n",
    "    mrt_date = pd.to_timedelta(\n",
    "        mrt_days, unit='days') + data_model.index[0]\n",
    "    mrt = int(logistic_deriv(mrt_days, *params))\n",
    "    \n",
    "    out = {'a': int(params[0]), 'a_std': int(params_stdev[0]),\n",
    "          'b': params[1], 'b_std': params_stdev[1],\n",
    "          'c': params[2], 'c_std': params_stdev[2],\n",
    "           'mrt' : mrt, 'mrt_date':mrt_date, 'mrt_days': mrt_days,\n",
    "           'start_date': data_model.index[0], 'R0' : np.around(1/params[2], 1)\n",
    "          }\n",
    "    return pd.Series(out)\n",
    "\n",
    "def print_report(res):\n",
    "    print('Начало: {:%Y-%m-%d}'.format(res.start_date))\n",
    "    print(\"Максимальное число заражённых:\" \n",
    "          \"a = {:.0f} +\\- {:.0f}\".format(res.a, res.a_std))\n",
    "    print('b = {:.2f} +\\- {:.2f}'.format(res.b, res.b_std))\n",
    "    print('c = {:.4f} +\\- {:.4f}'.format(res.c, res.c_std))\n",
    "    print('Заразность R0 = {:.1f}'.format(res.R0))\n",
    "    print(\"Макс. скорость заражения {:.0f} чел./сутки \" \n",
    "          \"наступит {:%Y-%m-%d}, через {:.0f} дн. после начала.\".format(\n",
    "              res.mrt, res.mrt_date, res.mrt_days))\n",
    "    \n",
    "def plot_prediction(data_model, res, days=90):\n",
    "    dates_extra = pd.to_timedelta(days, unit='days')\n",
    "    date_predict = (pd.date_range(data_model.index[0],\n",
    "                                  data_model.index[0] +\n",
    "                                  dates_extra))\n",
    "    date_predict_delta = (date_predict.to_julian_date() -\n",
    "                          data_model.index[0].to_julian_date())\n",
    "    predicted = pd.Series(\n",
    "        logistic(date_predict_delta, res.a, res.b, res.c),\n",
    "        index=date_predict, name='Логистическая модель')\n",
    "\n",
    "    data_plot = pd.DataFrame({\n",
    "        'Логистическая модель': predicted,\n",
    "        'Реальные данные': data_model})\n",
    "    \n",
    "    ax = plot_cases(data_plot)\n",
    "    ax.axvline(x=res.mrt_date, color='g',\n",
    "               label='Макс. скорость')\n",
    "    ax.legend()\n",
    "    return ax"
   ]
  },
  {
   "cell_type": "markdown",
   "metadata": {},
   "source": [
    "Теперь построим модель для Китая по полным доступным данным."
   ]
  },
  {
   "cell_type": "code",
   "execution_count": 22,
   "metadata": {},
   "outputs": [
    {
     "name": "stdout",
     "output_type": "stream",
     "text": [
      "Начало: 2020-01-22\n",
      "Максимальное число заражённых:a = 81213 +\\- 336\n",
      "b = 50.59 +\\- 5.33\n",
      "c = 0.2204 +\\- 0.0059\n",
      "Заразность R0 = 4.5\n",
      "Макс. скорость заражения 4439 чел./сутки наступит 2020-02-08, через 17 дн. после начала.\n"
     ]
    },
    {
     "data": {
      "text/plain": [
       "<matplotlib.axes._subplots.AxesSubplot at 0x7f2ec0229a00>"
      ]
     },
     "execution_count": 22,
     "metadata": {},
     "output_type": "execute_result"
    },
    {
     "data": {
      "image/png": "[encoded data removed]",
      "text/plain": [
       "<Figure size 576x288 with 1 Axes>"
      ]
     },
     "metadata": {
      "needs_background": "light"
     },
     "output_type": "display_data"
    }
   ],
   "source": [
    "country = 'China'\n",
    "data_model = confirmed[country].copy()\n",
    "\n",
    "data_model[data_model == 0] = np.nan\n",
    "data_model = data_model.dropna()\n",
    "\n",
    "res = fit_model(data_model)\n",
    "print_report(res)\n",
    "plot_prediction(data_model, res)"
   ]
  },
  {
   "cell_type": "markdown",
   "metadata": {},
   "source": [
    "Выглядит неплохо. Однако сила моделирования в способности предсказывать. Если бы сейчас было начало февраля, смогли бы мы предсказать общее число заражённых в Китае на сегодняшний день? С какого момента модель начинает давать близкие к реальности результаты?\n",
    "\n",
    "Для ответа на эти вопросы проанализируем сходимость педсказанных моделью значений к реальными данным за последние сутки."
   ]
  },
  {
   "cell_type": "code",
   "execution_count": 23,
   "metadata": {},
   "outputs": [],
   "source": [
    "def plot_convergence(data_model, freq='1D', print_iterations=False):\n",
    "    min_d = pd.to_timedelta(10, unit='D')\n",
    "    date_range = pd.date_range(data_model.index[0] +\n",
    "                               min_d, data_model.index[-1],\n",
    "                               freq=freq)[1:]\n",
    "\n",
    "    results = []\n",
    "    for date in date_range:\n",
    "        data_i = data_model.loc[data_model.index[0]:date]\n",
    "        res_i = fit_model(data_i)\n",
    "        res_i['Дата'] = date\n",
    "        predict_date = (confirmed.index[-1].to_julian_date() -\n",
    "                        res_i.start_date.to_julian_date())\n",
    "        res_i['predicted'] = logistic(\n",
    "            predict_date, res_i.a, res_i.b, res_i.c)\n",
    "        results.append(res_i)\n",
    "        if print_iterations:\n",
    "            print('{:%Y-%m-%d} {:10.0f} +\\- {:5.0f}'.format(\n",
    "                date, int(res_i.a), int(res_i.a_std)))\n",
    "\n",
    "    results = pd.DataFrame({'Заболевшие': data_model,\n",
    "                        'Предсказанное число': pd.DataFrame(results)\n",
    "                            .set_index('Дата')['predicted']})\n",
    "    ax = plot_cases(results)\n",
    "    ax.axhline(int(data_model.tail(1).values), color='r',\n",
    "               label='Действительное число')\n",
    "    ax.legend()\n",
    "    return ax"
   ]
  },
  {
   "cell_type": "code",
   "execution_count": 24,
   "metadata": {},
   "outputs": [
    {
     "data": {
      "text/plain": [
       "<matplotlib.axes._subplots.AxesSubplot at 0x7f2ec043ab20>"
      ]
     },
     "execution_count": 24,
     "metadata": {},
     "output_type": "execute_result"
    },
    {
     "data": {
      "image/png": "[encoded data removed]",
      "text/plain": [
       "<Figure size 576x288 with 1 Axes>"
      ]
     },
     "metadata": {
      "needs_background": "light"
     },
     "output_type": "display_data"
    }
   ],
   "source": [
    "plot_convergence(data_model)"
   ]
  },
  {
   "cell_type": "markdown",
   "metadata": {},
   "source": [
    "Порядок предсказанных цифр заражения на сегодня стал близким к действительному в середине февраля, то есть уже ближе к концу роста. Однако в китайских данных был один артефакт в середине, когда скорость резко изменилась, что повлияло на поведение функции.\n",
    "\n",
    "В целом, однако, **предсказательная способность у модели слабая**.\n",
    "\n",
    "# Пробуем делать прогноз\n",
    "\n",
    "## Прогноз по лидирующим странам\n",
    "\n",
    "И всё же попробуем сделать прогноз. У каждой страны есть свои особенности, поэтому модель нужно подбирать для каждого случая в отдельности. Сделаем это для лидирующих стран по числу заражённых."
   ]
  },
  {
   "cell_type": "code",
   "execution_count": 25,
   "metadata": {},
   "outputs": [
    {
     "name": "stdout",
     "output_type": "stream",
     "text": [
      "Прогноз на 2020-04-01:\n"
     ]
    },
    {
     "data": {
      "text/html": [
       "<div>\n",
       "<style scoped>\n",
       "    .dataframe tbody tr th:only-of-type {\n",
       "        vertical-align: middle;\n",
       "    }\n",
       "\n",
       "    .dataframe tbody tr th {\n",
       "        vertical-align: top;\n",
       "    }\n",
       "\n",
       "    .dataframe thead th {\n",
       "        text-align: right;\n",
       "    }\n",
       "</style>\n",
       "<table border=\"1\" class=\"dataframe\">\n",
       "  <thead>\n",
       "    <tr style=\"text-align: right;\">\n",
       "      <th></th>\n",
       "      <th>a</th>\n",
       "      <th>a_std</th>\n",
       "      <th>b</th>\n",
       "      <th>b_std</th>\n",
       "      <th>c</th>\n",
       "      <th>c_std</th>\n",
       "      <th>mrt</th>\n",
       "      <th>mrt_date</th>\n",
       "      <th>mrt_days</th>\n",
       "      <th>start_date</th>\n",
       "      <th>R0</th>\n",
       "    </tr>\n",
       "    <tr>\n",
       "      <th>Country/Region</th>\n",
       "      <th></th>\n",
       "      <th></th>\n",
       "      <th></th>\n",
       "      <th></th>\n",
       "      <th></th>\n",
       "      <th></th>\n",
       "      <th></th>\n",
       "      <th></th>\n",
       "      <th></th>\n",
       "      <th></th>\n",
       "      <th></th>\n",
       "    </tr>\n",
       "  </thead>\n",
       "  <tbody>\n",
       "    <tr>\n",
       "      <th>US</th>\n",
       "      <td>265888</td>\n",
       "      <td>8796</td>\n",
       "      <td>714.788</td>\n",
       "      <td>38.6894</td>\n",
       "      <td>0.298288</td>\n",
       "      <td>0.00500926</td>\n",
       "      <td>19827</td>\n",
       "      <td>2020-03-30</td>\n",
       "      <td>22</td>\n",
       "      <td>2020-03-08</td>\n",
       "      <td>3.4</td>\n",
       "    </tr>\n",
       "    <tr>\n",
       "      <th>Italy</th>\n",
       "      <td>127613</td>\n",
       "      <td>1543</td>\n",
       "      <td>135.734</td>\n",
       "      <td>4.35837</td>\n",
       "      <td>0.185741</td>\n",
       "      <td>0.00207671</td>\n",
       "      <td>5915</td>\n",
       "      <td>2020-03-24</td>\n",
       "      <td>26</td>\n",
       "      <td>2020-02-27</td>\n",
       "      <td>5.4</td>\n",
       "    </tr>\n",
       "    <tr>\n",
       "      <th>Spain</th>\n",
       "      <td>140756</td>\n",
       "      <td>4985</td>\n",
       "      <td>154.629</td>\n",
       "      <td>6.14306</td>\n",
       "      <td>0.227108</td>\n",
       "      <td>0.00438099</td>\n",
       "      <td>7987</td>\n",
       "      <td>2020-03-29</td>\n",
       "      <td>22</td>\n",
       "      <td>2020-03-07</td>\n",
       "      <td>4.4</td>\n",
       "    </tr>\n",
       "    <tr>\n",
       "      <th>China</th>\n",
       "      <td>81174</td>\n",
       "      <td>263</td>\n",
       "      <td>34.8377</td>\n",
       "      <td>2.55639</td>\n",
       "      <td>0.217937</td>\n",
       "      <td>0.00448569</td>\n",
       "      <td>4418</td>\n",
       "      <td>2020-02-10</td>\n",
       "      <td>16</td>\n",
       "      <td>2020-01-25</td>\n",
       "      <td>4.6</td>\n",
       "    </tr>\n",
       "    <tr>\n",
       "      <th>Germany</th>\n",
       "      <td>101177</td>\n",
       "      <td>5021</td>\n",
       "      <td>120.732</td>\n",
       "      <td>7.43047</td>\n",
       "      <td>0.223002</td>\n",
       "      <td>0.00670903</td>\n",
       "      <td>5623</td>\n",
       "      <td>2020-03-28</td>\n",
       "      <td>21</td>\n",
       "      <td>2020-03-07</td>\n",
       "      <td>4.5</td>\n",
       "    </tr>\n",
       "    <tr>\n",
       "      <th>France</th>\n",
       "      <td>85714</td>\n",
       "      <td>3747</td>\n",
       "      <td>113.766</td>\n",
       "      <td>3.12913</td>\n",
       "      <td>0.191007</td>\n",
       "      <td>0.00341048</td>\n",
       "      <td>4070</td>\n",
       "      <td>2020-03-30</td>\n",
       "      <td>24</td>\n",
       "      <td>2020-03-06</td>\n",
       "      <td>5.2</td>\n",
       "    </tr>\n",
       "    <tr>\n",
       "      <th>Iran</th>\n",
       "      <td>78793</td>\n",
       "      <td>15805</td>\n",
       "      <td>29.9718</td>\n",
       "      <td>4.12572</td>\n",
       "      <td>0.111372</td>\n",
       "      <td>0.00854357</td>\n",
       "      <td>2191</td>\n",
       "      <td>2020-03-31</td>\n",
       "      <td>30</td>\n",
       "      <td>2020-03-01</td>\n",
       "      <td>9</td>\n",
       "    </tr>\n",
       "    <tr>\n",
       "      <th>United Kingdom</th>\n",
       "      <td>58688</td>\n",
       "      <td>3963</td>\n",
       "      <td>182.845</td>\n",
       "      <td>6.79963</td>\n",
       "      <td>0.221451</td>\n",
       "      <td>0.00376358</td>\n",
       "      <td>3238</td>\n",
       "      <td>2020-04-02</td>\n",
       "      <td>23</td>\n",
       "      <td>2020-03-10</td>\n",
       "      <td>4.5</td>\n",
       "    </tr>\n",
       "    <tr>\n",
       "      <th>Switzerland</th>\n",
       "      <td>18368</td>\n",
       "      <td>277</td>\n",
       "      <td>63.5859</td>\n",
       "      <td>2.77055</td>\n",
       "      <td>0.259458</td>\n",
       "      <td>0.00450568</td>\n",
       "      <td>1191</td>\n",
       "      <td>2020-03-25</td>\n",
       "      <td>16</td>\n",
       "      <td>2020-03-09</td>\n",
       "      <td>3.9</td>\n",
       "    </tr>\n",
       "    <tr>\n",
       "      <th>Turkey</th>\n",
       "      <td>20999</td>\n",
       "      <td>2060</td>\n",
       "      <td>23.9821</td>\n",
       "      <td>1.65214</td>\n",
       "      <td>0.391943</td>\n",
       "      <td>0.0162769</td>\n",
       "      <td>2056</td>\n",
       "      <td>2020-03-31</td>\n",
       "      <td>8</td>\n",
       "      <td>2020-03-23</td>\n",
       "      <td>2.6</td>\n",
       "    </tr>\n",
       "    <tr>\n",
       "      <th>Belgium</th>\n",
       "      <td>56874</td>\n",
       "      <td>15343</td>\n",
       "      <td>182.272</td>\n",
       "      <td>39.8074</td>\n",
       "      <td>0.190339</td>\n",
       "      <td>0.00607212</td>\n",
       "      <td>2703</td>\n",
       "      <td>2020-04-07</td>\n",
       "      <td>27</td>\n",
       "      <td>2020-03-11</td>\n",
       "      <td>5.3</td>\n",
       "    </tr>\n",
       "    <tr>\n",
       "      <th>Netherlands</th>\n",
       "      <td>21895</td>\n",
       "      <td>686</td>\n",
       "      <td>53.045</td>\n",
       "      <td>1.00381</td>\n",
       "      <td>0.202235</td>\n",
       "      <td>0.00269783</td>\n",
       "      <td>1102</td>\n",
       "      <td>2020-03-30</td>\n",
       "      <td>19</td>\n",
       "      <td>2020-03-11</td>\n",
       "      <td>4.9</td>\n",
       "    </tr>\n",
       "    <tr>\n",
       "      <th>Austria</th>\n",
       "      <td>12498</td>\n",
       "      <td>161</td>\n",
       "      <td>26.991</td>\n",
       "      <td>0.422518</td>\n",
       "      <td>0.255219</td>\n",
       "      <td>0.00285387</td>\n",
       "      <td>786</td>\n",
       "      <td>2020-03-26</td>\n",
       "      <td>12</td>\n",
       "      <td>2020-03-14</td>\n",
       "      <td>3.9</td>\n",
       "    </tr>\n",
       "    <tr>\n",
       "      <th>Korea, South</th>\n",
       "      <td>8915</td>\n",
       "      <td>89</td>\n",
       "      <td>10.6679</td>\n",
       "      <td>1.26596</td>\n",
       "      <td>0.262116</td>\n",
       "      <td>0.0131693</td>\n",
       "      <td>584</td>\n",
       "      <td>2020-03-04</td>\n",
       "      <td>9</td>\n",
       "      <td>2020-02-24</td>\n",
       "      <td>3.8</td>\n",
       "    </tr>\n",
       "    <tr>\n",
       "      <th>Canada</th>\n",
       "      <td>12554</td>\n",
       "      <td>599</td>\n",
       "      <td>28.747</td>\n",
       "      <td>0.888082</td>\n",
       "      <td>0.273607</td>\n",
       "      <td>0.006368</td>\n",
       "      <td>857</td>\n",
       "      <td>2020-03-30</td>\n",
       "      <td>12</td>\n",
       "      <td>2020-03-18</td>\n",
       "      <td>3.7</td>\n",
       "    </tr>\n",
       "  </tbody>\n",
       "</table>\n",
       "</div>"
      ],
      "text/plain": [
       "                     a  a_std        b     b_std         c       c_std    mrt  \\\n",
       "Country/Region                                                                  \n",
       "US              265888   8796  714.788   38.6894  0.298288  0.00500926  19827   \n",
       "Italy           127613   1543  135.734   4.35837  0.185741  0.00207671   5915   \n",
       "Spain           140756   4985  154.629   6.14306  0.227108  0.00438099   7987   \n",
       "China            81174    263  34.8377   2.55639  0.217937  0.00448569   4418   \n",
       "Germany         101177   5021  120.732   7.43047  0.223002  0.00670903   5623   \n",
       "France           85714   3747  113.766   3.12913  0.191007  0.00341048   4070   \n",
       "Iran             78793  15805  29.9718   4.12572  0.111372  0.00854357   2191   \n",
       "United Kingdom   58688   3963  182.845   6.79963  0.221451  0.00376358   3238   \n",
       "Switzerland      18368    277  63.5859   2.77055  0.259458  0.00450568   1191   \n",
       "Turkey           20999   2060  23.9821   1.65214  0.391943   0.0162769   2056   \n",
       "Belgium          56874  15343  182.272   39.8074  0.190339  0.00607212   2703   \n",
       "Netherlands      21895    686   53.045   1.00381  0.202235  0.00269783   1102   \n",
       "Austria          12498    161   26.991  0.422518  0.255219  0.00285387    786   \n",
       "Korea, South      8915     89  10.6679   1.26596  0.262116   0.0131693    584   \n",
       "Canada           12554    599   28.747  0.888082  0.273607    0.006368    857   \n",
       "\n",
       "                  mrt_date mrt_days start_date   R0  \n",
       "Country/Region                                       \n",
       "US              2020-03-30       22 2020-03-08  3.4  \n",
       "Italy           2020-03-24       26 2020-02-27  5.4  \n",
       "Spain           2020-03-29       22 2020-03-07  4.4  \n",
       "China           2020-02-10       16 2020-01-25  4.6  \n",
       "Germany         2020-03-28       21 2020-03-07  4.5  \n",
       "France          2020-03-30       24 2020-03-06  5.2  \n",
       "Iran            2020-03-31       30 2020-03-01    9  \n",
       "United Kingdom  2020-04-02       23 2020-03-10  4.5  \n",
       "Switzerland     2020-03-25       16 2020-03-09  3.9  \n",
       "Turkey          2020-03-31        8 2020-03-23  2.6  \n",
       "Belgium         2020-04-07       27 2020-03-11  5.3  \n",
       "Netherlands     2020-03-30       19 2020-03-11  4.9  \n",
       "Austria         2020-03-26       12 2020-03-14  3.9  \n",
       "Korea, South    2020-03-04        9 2020-02-24  3.8  \n",
       "Canada          2020-03-30       12 2020-03-18  3.7  "
      ]
     },
     "execution_count": 25,
     "metadata": {},
     "output_type": "execute_result"
    }
   ],
   "source": [
    "top = 15\n",
    "top_countries_predict = confirmed[get_top_countries_names(top)].copy()\n",
    "top_countries_predict[top_countries_predict < 200] = np.nan\n",
    "top_countries_predict = top_countries_predict.rolling(4).mean()\n",
    "\n",
    "top_countries_predict = top_countries_predict.apply(\n",
    "    lambda x: fit_model(x)).transpose()\n",
    "top_countries_predict['mrt_date'] = (top_countries_predict['mrt_date']\n",
    "                                     .dt.strftime('%Y-%m-%d'))\n",
    "\n",
    "print('Прогноз на {:%Y-%m-%d}:'.format(today))\n",
    "top_countries_predict"
   ]
  },
  {
   "cell_type": "markdown",
   "metadata": {},
   "source": [
    "Напоминаю, что `a` это максимальное число заражённых, `mrt_date` это дата (спустя `mrt_days` дней с начала моделирования `start_date`), когда скорость заражения будет максимальной и равна `mrt` заражённых в день.\n",
    "\n",
    "Вообще говоря, некоторые решения могут получиться нестабильными, это видно по большому значению `a_std` или по завышенному значению `a`, как и других коэффициентов. Кроме того, решения **очень** чувствительны к ошибкам исходных данных. Это один из недостатков принятого подхода и модели.\n",
    "\n",
    "Кроме того, если дата с максимальным ростом `mrt_date` очень близка к последней дате, на которую вообще имеются данные, то опять же вероятны неточности в решении.\n",
    "\n",
    "Решения будут тем лучше, чем ближе рост к завершению, то есть при приближениии к верхней асимптоте. Понятно, что с точки зрения предсказания это слабое место. Более сложные и реалистичные модели позволяют моделировать процессы распространения эпидемий и на начальных этапах, принимая во внимание многие факторы. Логистическая функция такими свойствами не обладает ввиду своей простоты.\n",
    "\n",
    "`R0` это заразность, то есть сколько один человек заразит других. Для топовых стран:"
   ]
  },
  {
   "cell_type": "code",
   "execution_count": 26,
   "metadata": {},
   "outputs": [
    {
     "data": {
      "text/plain": [
       "'Базовое репродуктивное число COVID-19 R0 = 4.5'"
      ]
     },
     "execution_count": 26,
     "metadata": {},
     "output_type": "execute_result"
    }
   ],
   "source": [
    "'Базовое репродуктивное число COVID-19 R0 = {:.1f}'.format(top_countries_predict.R0.median())"
   ]
  },
  {
   "cell_type": "markdown",
   "metadata": {},
   "source": [
    "Для сравнения:\n",
    "* R0 сезонного гриппа — 0.9 – 2.1;\n",
    "* R0 гриппа «Испанки» — 1.4 – 2.8;\n",
    "* R0 кори — 12-18 .\n",
    "\n",
    "Наш коронавирус на данный момент весьма заразен, куда больше любого из гриппов.\n",
    "\n",
    "Высокая заразность и высокая летальность довольно очевидно должны приводить к большому числу жертв в абсолютной мере."
   ]
  }
 ],
 "metadata": {
  "kernelspec": {
   "display_name": "Python 3",
   "language": "python",
   "name": "python3"
  },
  "language_info": {
   "codemirror_mode": {
    "name": "ipython",
    "version": 3
   },
   "file_extension": ".py",
   "mimetype": "text/x-python",
   "name": "python",
   "nbconvert_exporter": "python",
   "pygments_lexer": "ipython3",
   "version": "3.8.2"
  }
 },
 "nbformat": 4,
 "nbformat_minor": 2
}
