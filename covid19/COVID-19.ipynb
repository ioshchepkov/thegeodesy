{
 "cells": [
  {
   "cell_type": "code",
   "execution_count": 1,
   "metadata": {},
   "outputs": [],
   "source": [
    "import pandas as pd\n",
    "import numpy as np\n",
    "import matplotlib.pyplot as plt\n",
    "from matplotlib.dates import WeekdayLocator, DateFormatter\n",
    "from scipy.optimize import curve_fit"
   ]
  },
  {
   "cell_type": "markdown",
   "metadata": {},
   "source": [
    "# Исходные данные"
   ]
  },
  {
   "cell_type": "markdown",
   "metadata": {},
   "source": [
    "Мы воспользуемся открытыми глобальными данными [Университета Джонса Хопкинса](https://coronavirus.jhu.edu/).\n",
    "\n",
    "Исходные данные получим из репозитория  Johns Hopkins CSSE: [CSSEGISandData/COVID-19](https://github.com/CSSEGISandData/COVID-19)\n",
    "\n",
    "Мы загружаем данные о заражённых, умерших и выздоровевших по странам. Они обновляются каждые сутки, поэтому можно будет следить за динамикой, просто запуская этот Jupyter Notebook раз в день."
   ]
  },
  {
   "cell_type": "code",
   "execution_count": 2,
   "metadata": {},
   "outputs": [
    {
     "data": {
      "text/html": [
       "<div>\n",
       "<style scoped>\n",
       "    .dataframe tbody tr th:only-of-type {\n",
       "        vertical-align: middle;\n",
       "    }\n",
       "\n",
       "    .dataframe tbody tr th {\n",
       "        vertical-align: top;\n",
       "    }\n",
       "\n",
       "    .dataframe thead th {\n",
       "        text-align: right;\n",
       "    }\n",
       "</style>\n",
       "<table border=\"1\" class=\"dataframe\">\n",
       "  <thead>\n",
       "    <tr style=\"text-align: right;\">\n",
       "      <th></th>\n",
       "      <th>Province/State</th>\n",
       "      <th>Country/Region</th>\n",
       "      <th>Lat</th>\n",
       "      <th>Long</th>\n",
       "      <th>1/22/20</th>\n",
       "      <th>1/23/20</th>\n",
       "      <th>1/24/20</th>\n",
       "      <th>1/25/20</th>\n",
       "      <th>1/26/20</th>\n",
       "      <th>1/27/20</th>\n",
       "      <th>...</th>\n",
       "      <th>3/21/20</th>\n",
       "      <th>3/22/20</th>\n",
       "      <th>3/23/20</th>\n",
       "      <th>3/24/20</th>\n",
       "      <th>3/25/20</th>\n",
       "      <th>3/26/20</th>\n",
       "      <th>3/27/20</th>\n",
       "      <th>3/28/20</th>\n",
       "      <th>3/29/20</th>\n",
       "      <th>3/30/20</th>\n",
       "    </tr>\n",
       "  </thead>\n",
       "  <tbody>\n",
       "    <tr>\n",
       "      <th>0</th>\n",
       "      <td>NaN</td>\n",
       "      <td>Afghanistan</td>\n",
       "      <td>33.0000</td>\n",
       "      <td>65.0000</td>\n",
       "      <td>0</td>\n",
       "      <td>0</td>\n",
       "      <td>0</td>\n",
       "      <td>0</td>\n",
       "      <td>0</td>\n",
       "      <td>0</td>\n",
       "      <td>...</td>\n",
       "      <td>24</td>\n",
       "      <td>40</td>\n",
       "      <td>40</td>\n",
       "      <td>74</td>\n",
       "      <td>84</td>\n",
       "      <td>94</td>\n",
       "      <td>110</td>\n",
       "      <td>110</td>\n",
       "      <td>120</td>\n",
       "      <td>170</td>\n",
       "    </tr>\n",
       "    <tr>\n",
       "      <th>1</th>\n",
       "      <td>NaN</td>\n",
       "      <td>Albania</td>\n",
       "      <td>41.1533</td>\n",
       "      <td>20.1683</td>\n",
       "      <td>0</td>\n",
       "      <td>0</td>\n",
       "      <td>0</td>\n",
       "      <td>0</td>\n",
       "      <td>0</td>\n",
       "      <td>0</td>\n",
       "      <td>...</td>\n",
       "      <td>76</td>\n",
       "      <td>89</td>\n",
       "      <td>104</td>\n",
       "      <td>123</td>\n",
       "      <td>146</td>\n",
       "      <td>174</td>\n",
       "      <td>186</td>\n",
       "      <td>197</td>\n",
       "      <td>212</td>\n",
       "      <td>223</td>\n",
       "    </tr>\n",
       "    <tr>\n",
       "      <th>2</th>\n",
       "      <td>NaN</td>\n",
       "      <td>Algeria</td>\n",
       "      <td>28.0339</td>\n",
       "      <td>1.6596</td>\n",
       "      <td>0</td>\n",
       "      <td>0</td>\n",
       "      <td>0</td>\n",
       "      <td>0</td>\n",
       "      <td>0</td>\n",
       "      <td>0</td>\n",
       "      <td>...</td>\n",
       "      <td>139</td>\n",
       "      <td>201</td>\n",
       "      <td>230</td>\n",
       "      <td>264</td>\n",
       "      <td>302</td>\n",
       "      <td>367</td>\n",
       "      <td>409</td>\n",
       "      <td>454</td>\n",
       "      <td>511</td>\n",
       "      <td>584</td>\n",
       "    </tr>\n",
       "    <tr>\n",
       "      <th>3</th>\n",
       "      <td>NaN</td>\n",
       "      <td>Andorra</td>\n",
       "      <td>42.5063</td>\n",
       "      <td>1.5218</td>\n",
       "      <td>0</td>\n",
       "      <td>0</td>\n",
       "      <td>0</td>\n",
       "      <td>0</td>\n",
       "      <td>0</td>\n",
       "      <td>0</td>\n",
       "      <td>...</td>\n",
       "      <td>88</td>\n",
       "      <td>113</td>\n",
       "      <td>133</td>\n",
       "      <td>164</td>\n",
       "      <td>188</td>\n",
       "      <td>224</td>\n",
       "      <td>267</td>\n",
       "      <td>308</td>\n",
       "      <td>334</td>\n",
       "      <td>370</td>\n",
       "    </tr>\n",
       "    <tr>\n",
       "      <th>4</th>\n",
       "      <td>NaN</td>\n",
       "      <td>Angola</td>\n",
       "      <td>-11.2027</td>\n",
       "      <td>17.8739</td>\n",
       "      <td>0</td>\n",
       "      <td>0</td>\n",
       "      <td>0</td>\n",
       "      <td>0</td>\n",
       "      <td>0</td>\n",
       "      <td>0</td>\n",
       "      <td>...</td>\n",
       "      <td>2</td>\n",
       "      <td>2</td>\n",
       "      <td>3</td>\n",
       "      <td>3</td>\n",
       "      <td>3</td>\n",
       "      <td>4</td>\n",
       "      <td>4</td>\n",
       "      <td>5</td>\n",
       "      <td>7</td>\n",
       "      <td>7</td>\n",
       "    </tr>\n",
       "  </tbody>\n",
       "</table>\n",
       "<p>5 rows × 73 columns</p>\n",
       "</div>"
      ],
      "text/plain": [
       "  Province/State Country/Region      Lat     Long  1/22/20  1/23/20  1/24/20  \\\n",
       "0            NaN    Afghanistan  33.0000  65.0000        0        0        0   \n",
       "1            NaN        Albania  41.1533  20.1683        0        0        0   \n",
       "2            NaN        Algeria  28.0339   1.6596        0        0        0   \n",
       "3            NaN        Andorra  42.5063   1.5218        0        0        0   \n",
       "4            NaN         Angola -11.2027  17.8739        0        0        0   \n",
       "\n",
       "   1/25/20  1/26/20  1/27/20  ...  3/21/20  3/22/20  3/23/20  3/24/20  \\\n",
       "0        0        0        0  ...       24       40       40       74   \n",
       "1        0        0        0  ...       76       89      104      123   \n",
       "2        0        0        0  ...      139      201      230      264   \n",
       "3        0        0        0  ...       88      113      133      164   \n",
       "4        0        0        0  ...        2        2        3        3   \n",
       "\n",
       "   3/25/20  3/26/20  3/27/20  3/28/20  3/29/20  3/30/20  \n",
       "0       84       94      110      110      120      170  \n",
       "1      146      174      186      197      212      223  \n",
       "2      302      367      409      454      511      584  \n",
       "3      188      224      267      308      334      370  \n",
       "4        3        4        4        5        7        7  \n",
       "\n",
       "[5 rows x 73 columns]"
      ]
     },
     "execution_count": 2,
     "metadata": {},
     "output_type": "execute_result"
    }
   ],
   "source": [
    "confirmed_url = 'https://raw.githubusercontent.com/CSSEGISandData/COVID-19/master/csse_covid_19_data/csse_covid_19_time_series/time_series_covid19_confirmed_global.csv'\n",
    "deaths_url = 'https://raw.githubusercontent.com/CSSEGISandData/COVID-19/master/csse_covid_19_data/csse_covid_19_time_series/time_series_covid19_deaths_global.csv'\n",
    "recovered_url = 'https://raw.githubusercontent.com/CSSEGISandData/COVID-19/master/csse_covid_19_data/csse_covid_19_time_series/time_series_covid19_recovered_global.csv'\n",
    "\n",
    "confirmed_data = pd.read_csv(confirmed_url)\n",
    "deaths_data = pd.read_csv(deaths_url)\n",
    "recovered_data = pd.read_csv(recovered_url)\n",
    "\n",
    "confirmed_data.head()"
   ]
  },
  {
   "cell_type": "markdown",
   "metadata": {},
   "source": [
    "Напишем функцию для преобразования данных к удобному для анализа виду. \n",
    "\n",
    "1. Избавимся от ненужных столбцов: `drop(['Province/State', 'Lat', 'Long'], axis=1)`.\n",
    "2. Найдём сумму всех случаев заражений по каждой стране, то есть исключим деление на штаты/районы/провинции: `groupby(by='Country/Region').sum()`.\n",
    "3. Транспонируем таблицу `transpose()`, чтобы даты стали столбцом `'date'`, а названия стран стали столбцами.\n",
    "4. Столбец с датами делаем индексом, таким образом получаем полноценный временной ряд.\n",
    "\n",
    "Поскольку эту операцию нужно проделать со всеми таблицами, то напишем сначала функцию, а затем применим её к исходным данным."
   ]
  },
  {
   "cell_type": "code",
   "execution_count": 3,
   "metadata": {},
   "outputs": [
    {
     "data": {
      "text/html": [
       "<div>\n",
       "<style scoped>\n",
       "    .dataframe tbody tr th:only-of-type {\n",
       "        vertical-align: middle;\n",
       "    }\n",
       "\n",
       "    .dataframe tbody tr th {\n",
       "        vertical-align: top;\n",
       "    }\n",
       "\n",
       "    .dataframe thead th {\n",
       "        text-align: right;\n",
       "    }\n",
       "</style>\n",
       "<table border=\"1\" class=\"dataframe\">\n",
       "  <thead>\n",
       "    <tr style=\"text-align: right;\">\n",
       "      <th>Country/Region</th>\n",
       "      <th>Afghanistan</th>\n",
       "      <th>Albania</th>\n",
       "      <th>Algeria</th>\n",
       "      <th>Andorra</th>\n",
       "      <th>Angola</th>\n",
       "      <th>Antigua and Barbuda</th>\n",
       "      <th>Argentina</th>\n",
       "      <th>Armenia</th>\n",
       "      <th>Australia</th>\n",
       "      <th>Austria</th>\n",
       "      <th>...</th>\n",
       "      <th>Ukraine</th>\n",
       "      <th>United Arab Emirates</th>\n",
       "      <th>United Kingdom</th>\n",
       "      <th>Uruguay</th>\n",
       "      <th>Uzbekistan</th>\n",
       "      <th>Venezuela</th>\n",
       "      <th>Vietnam</th>\n",
       "      <th>West Bank and Gaza</th>\n",
       "      <th>Zambia</th>\n",
       "      <th>Zimbabwe</th>\n",
       "    </tr>\n",
       "    <tr>\n",
       "      <th>Дата</th>\n",
       "      <th></th>\n",
       "      <th></th>\n",
       "      <th></th>\n",
       "      <th></th>\n",
       "      <th></th>\n",
       "      <th></th>\n",
       "      <th></th>\n",
       "      <th></th>\n",
       "      <th></th>\n",
       "      <th></th>\n",
       "      <th></th>\n",
       "      <th></th>\n",
       "      <th></th>\n",
       "      <th></th>\n",
       "      <th></th>\n",
       "      <th></th>\n",
       "      <th></th>\n",
       "      <th></th>\n",
       "      <th></th>\n",
       "      <th></th>\n",
       "      <th></th>\n",
       "    </tr>\n",
       "  </thead>\n",
       "  <tbody>\n",
       "    <tr>\n",
       "      <th>2020-03-26</th>\n",
       "      <td>94</td>\n",
       "      <td>174</td>\n",
       "      <td>367</td>\n",
       "      <td>224</td>\n",
       "      <td>4</td>\n",
       "      <td>7</td>\n",
       "      <td>502</td>\n",
       "      <td>290</td>\n",
       "      <td>2810</td>\n",
       "      <td>6909</td>\n",
       "      <td>...</td>\n",
       "      <td>196</td>\n",
       "      <td>333</td>\n",
       "      <td>11812</td>\n",
       "      <td>217</td>\n",
       "      <td>75</td>\n",
       "      <td>107</td>\n",
       "      <td>153</td>\n",
       "      <td>84</td>\n",
       "      <td>16</td>\n",
       "      <td>3</td>\n",
       "    </tr>\n",
       "    <tr>\n",
       "      <th>2020-03-27</th>\n",
       "      <td>110</td>\n",
       "      <td>186</td>\n",
       "      <td>409</td>\n",
       "      <td>267</td>\n",
       "      <td>4</td>\n",
       "      <td>7</td>\n",
       "      <td>589</td>\n",
       "      <td>329</td>\n",
       "      <td>3143</td>\n",
       "      <td>7657</td>\n",
       "      <td>...</td>\n",
       "      <td>310</td>\n",
       "      <td>405</td>\n",
       "      <td>14745</td>\n",
       "      <td>238</td>\n",
       "      <td>88</td>\n",
       "      <td>107</td>\n",
       "      <td>163</td>\n",
       "      <td>91</td>\n",
       "      <td>22</td>\n",
       "      <td>5</td>\n",
       "    </tr>\n",
       "    <tr>\n",
       "      <th>2020-03-28</th>\n",
       "      <td>110</td>\n",
       "      <td>197</td>\n",
       "      <td>454</td>\n",
       "      <td>308</td>\n",
       "      <td>5</td>\n",
       "      <td>7</td>\n",
       "      <td>690</td>\n",
       "      <td>407</td>\n",
       "      <td>3640</td>\n",
       "      <td>8271</td>\n",
       "      <td>...</td>\n",
       "      <td>356</td>\n",
       "      <td>468</td>\n",
       "      <td>17312</td>\n",
       "      <td>274</td>\n",
       "      <td>104</td>\n",
       "      <td>119</td>\n",
       "      <td>174</td>\n",
       "      <td>98</td>\n",
       "      <td>28</td>\n",
       "      <td>7</td>\n",
       "    </tr>\n",
       "    <tr>\n",
       "      <th>2020-03-29</th>\n",
       "      <td>120</td>\n",
       "      <td>212</td>\n",
       "      <td>511</td>\n",
       "      <td>334</td>\n",
       "      <td>7</td>\n",
       "      <td>7</td>\n",
       "      <td>745</td>\n",
       "      <td>424</td>\n",
       "      <td>3984</td>\n",
       "      <td>8788</td>\n",
       "      <td>...</td>\n",
       "      <td>475</td>\n",
       "      <td>570</td>\n",
       "      <td>19780</td>\n",
       "      <td>304</td>\n",
       "      <td>144</td>\n",
       "      <td>119</td>\n",
       "      <td>188</td>\n",
       "      <td>109</td>\n",
       "      <td>29</td>\n",
       "      <td>7</td>\n",
       "    </tr>\n",
       "    <tr>\n",
       "      <th>2020-03-30</th>\n",
       "      <td>170</td>\n",
       "      <td>223</td>\n",
       "      <td>584</td>\n",
       "      <td>370</td>\n",
       "      <td>7</td>\n",
       "      <td>7</td>\n",
       "      <td>820</td>\n",
       "      <td>482</td>\n",
       "      <td>4361</td>\n",
       "      <td>9618</td>\n",
       "      <td>...</td>\n",
       "      <td>548</td>\n",
       "      <td>611</td>\n",
       "      <td>22453</td>\n",
       "      <td>310</td>\n",
       "      <td>149</td>\n",
       "      <td>135</td>\n",
       "      <td>203</td>\n",
       "      <td>116</td>\n",
       "      <td>35</td>\n",
       "      <td>7</td>\n",
       "    </tr>\n",
       "  </tbody>\n",
       "</table>\n",
       "<p>5 rows × 178 columns</p>\n",
       "</div>"
      ],
      "text/plain": [
       "Country/Region  Afghanistan  Albania  Algeria  Andorra  Angola  \\\n",
       "Дата                                                             \n",
       "2020-03-26               94      174      367      224       4   \n",
       "2020-03-27              110      186      409      267       4   \n",
       "2020-03-28              110      197      454      308       5   \n",
       "2020-03-29              120      212      511      334       7   \n",
       "2020-03-30              170      223      584      370       7   \n",
       "\n",
       "Country/Region  Antigua and Barbuda  Argentina  Armenia  Australia  Austria  \\\n",
       "Дата                                                                          \n",
       "2020-03-26                        7        502      290       2810     6909   \n",
       "2020-03-27                        7        589      329       3143     7657   \n",
       "2020-03-28                        7        690      407       3640     8271   \n",
       "2020-03-29                        7        745      424       3984     8788   \n",
       "2020-03-30                        7        820      482       4361     9618   \n",
       "\n",
       "Country/Region  ...  Ukraine  United Arab Emirates  United Kingdom  Uruguay  \\\n",
       "Дата            ...                                                           \n",
       "2020-03-26      ...      196                   333           11812      217   \n",
       "2020-03-27      ...      310                   405           14745      238   \n",
       "2020-03-28      ...      356                   468           17312      274   \n",
       "2020-03-29      ...      475                   570           19780      304   \n",
       "2020-03-30      ...      548                   611           22453      310   \n",
       "\n",
       "Country/Region  Uzbekistan  Venezuela  Vietnam  West Bank and Gaza  Zambia  \\\n",
       "Дата                                                                         \n",
       "2020-03-26              75        107      153                  84      16   \n",
       "2020-03-27              88        107      163                  91      22   \n",
       "2020-03-28             104        119      174                  98      28   \n",
       "2020-03-29             144        119      188                 109      29   \n",
       "2020-03-30             149        135      203                 116      35   \n",
       "\n",
       "Country/Region  Zimbabwe  \n",
       "Дата                      \n",
       "2020-03-26             3  \n",
       "2020-03-27             5  \n",
       "2020-03-28             7  \n",
       "2020-03-29             7  \n",
       "2020-03-30             7  \n",
       "\n",
       "[5 rows x 178 columns]"
      ]
     },
     "execution_count": 3,
     "metadata": {},
     "output_type": "execute_result"
    }
   ],
   "source": [
    "def transform_data(data):\n",
    "    data = (data\n",
    "             .drop(['Province/State', 'Lat', 'Long'], axis=1)\n",
    "             .groupby(by='Country/Region').sum()\n",
    "             .transpose()\n",
    "             .rename({'Country/Region' : 'date'})\n",
    "            )\n",
    "\n",
    "    data.index = pd.to_datetime(data.index)\n",
    "    data.index.name = 'Дата'\n",
    "    return data\n",
    "\n",
    "confirmed = transform_data(confirmed_data.copy())\n",
    "deaths = transform_data(deaths_data.copy())\n",
    "recovered = transform_data(recovered_data.copy())\n",
    "\n",
    "confirmed.tail()"
   ]
  },
  {
   "cell_type": "code",
   "execution_count": 4,
   "metadata": {},
   "outputs": [],
   "source": [
    "cases_global = pd.DataFrame({\n",
    "    'Заболевшие': confirmed.sum(axis='columns'),\n",
    "    'Умершие': deaths.sum(axis='columns'),\n",
    "    'Выздоровевшие': recovered.sum(axis='columns')})"
   ]
  },
  {
   "cell_type": "markdown",
   "metadata": {},
   "source": [
    "# Изучаем данные"
   ]
  },
  {
   "cell_type": "markdown",
   "metadata": {},
   "source": [
    "## Глобальные показатели\n",
    "\n",
    "Важной описательной статистикой для эпидемий является летальность и смертность. \n",
    "\n",
    "* **Летальность** заболевания это отношение смертей к общему числу заболевших. \n",
    "* **Смертность** заболевания это отношение умерших к средней численности популяции.\n",
    "\n",
    "Окончательные показатели летальности и смертности можно будет вычислить только после того как пандемия закончится и будут опубликованы официальные окончательные цифры. Однако ни что не мешает следить за текущей статистикой.\n",
    "\n",
    "Вычисляем летальность (англ. case fatality rate):"
   ]
  },
  {
   "cell_type": "code",
   "execution_count": 5,
   "metadata": {},
   "outputs": [
    {
     "data": {
      "text/plain": [
       "'Летальность: 4.80%'"
      ]
     },
     "execution_count": 5,
     "metadata": {},
     "output_type": "execute_result"
    }
   ],
   "source": [
    "cfr = (cases_global['Умершие'] / cases_global['Заболевшие'])\n",
    "'Летальность: {:.2f}%'.format(float(cfr.tail(1)) * 100)"
   ]
  },
  {
   "cell_type": "markdown",
   "metadata": {},
   "source": [
    "Эти цифры можно сравнить с другими заболеваниями: [List of human disease case fatality rates](https://en.wikipedia.org/wiki/List_of_human_disease_case_fatality_rates)\n",
    "\n",
    "На данный момент коронавирус более летален, чем любой из известных гриппов (у сезонного < 0.1%) и, например, малярия (~0.3%). Однако можно ожидать, что летальность в итоге уменьшится, особенно когда будут проведены оценки невыявленных случаев. \n",
    "\n",
    "Тем не менее, **сейчас цифры очень серьезные**."
   ]
  },
  {
   "cell_type": "markdown",
   "metadata": {},
   "source": [
    "Смертность обычно оценивают в промилле ‰, то есть в тысячной доле (процент это сотая доля). Мы возьмём приблизительную численность населения планеты в 7,7 млрд. человек."
   ]
  },
  {
   "cell_type": "code",
   "execution_count": 6,
   "metadata": {},
   "outputs": [
    {
     "data": {
      "text/plain": [
       "'Смертность: 0.00488‰'"
      ]
     },
     "execution_count": 6,
     "metadata": {},
     "output_type": "execute_result"
    }
   ],
   "source": [
    "world_population = 7.7e9\n",
    "mortality_rate = cases_global['Умершие'] / world_population\n",
    "'Смертность: {:.5f}‰'.format(float(mortality_rate.tail(1)) * 1000)"
   ]
  },
  {
   "cell_type": "markdown",
   "metadata": {},
   "source": [
    "А сколько всего человек заболело от общей численности населения?"
   ]
  },
  {
   "cell_type": "code",
   "execution_count": 7,
   "metadata": {},
   "outputs": [
    {
     "data": {
      "text/plain": [
       "'Заразились 782365 чел., это 0.01016% от населения планеты.'"
      ]
     },
     "execution_count": 7,
     "metadata": {},
     "output_type": "execute_result"
    }
   ],
   "source": [
    "confirmed_perc = cases_global['Заболевшие'] / world_population\n",
    "('Заразились {} чел., это {:.5f}% от ' \n",
    " 'населения планеты.'.format(int(cases_global['Заболевшие'].tail(1)),\n",
    "                                                    float(confirmed_perc.tail(1)) * 100))"
   ]
  },
  {
   "cell_type": "markdown",
   "metadata": {},
   "source": [
    "По сравнению с летальностью, смертность реже используется для характеристики эпидемии и пандемии. Оно и понятно, когда станет ясно, что смертность высокая, будет уже поздно принимать меры. Это же касатеся и прочих оценок, полученных как  отношение к общей численности населения.\n",
    "\n",
    "Теперь пора построить графики. Сначала напишем общую для всех них функцию."
   ]
  },
  {
   "cell_type": "code",
   "execution_count": 8,
   "metadata": {},
   "outputs": [],
   "source": [
    "def plot_cases(df, **kwargs):\n",
    "    ax = df.plot(figsize=(8, 4), grid=True)\n",
    "    ax.set(**kwargs)\n",
    "    \n",
    "    ax.set_ylabel('Число человек')\n",
    "    ax.xaxis.set_minor_formatter(plt.NullFormatter())\n",
    "    ax.xaxis.set_major_locator(WeekdayLocator(interval=1))\n",
    "    ax.xaxis.set_major_formatter(DateFormatter('%b %d'))\n",
    "    return ax"
   ]
  },
  {
   "cell_type": "code",
   "execution_count": 9,
   "metadata": {},
   "outputs": [
    {
     "data": {
      "text/plain": [
       "<matplotlib.axes._subplots.AxesSubplot at 0x7feed1cd31c0>"
      ]
     },
     "execution_count": 9,
     "metadata": {},
     "output_type": "execute_result"
    },
    {
     "data": {
      "image/png": "[encoded data removed]",
      "text/plain": [
       "<Figure size 576x288 with 1 Axes>"
      ]
     },
     "metadata": {
      "needs_background": "light"
     },
     "output_type": "display_data"
    }
   ],
   "source": [
    "%matplotlib inline\n",
    "plot_cases(cases_global, title='COVID-19')"
   ]
  },
  {
   "cell_type": "code",
   "execution_count": 10,
   "metadata": {},
   "outputs": [
    {
     "data": {
      "text/plain": [
       "Text(0, 0.5, 'Летальность, %')"
      ]
     },
     "execution_count": 10,
     "metadata": {},
     "output_type": "execute_result"
    },
    {
     "data": {
      "image/png": "[encoded data removed]",
      "text/plain": [
       "<Figure size 576x288 with 1 Axes>"
      ]
     },
     "metadata": {
      "needs_background": "light"
     },
     "output_type": "display_data"
    }
   ],
   "source": [
    "ax = plot_cases(cfr*100, title='Летальность COVID-19')\n",
    "ax.set_ylabel('Летальность, %')"
   ]
  },
  {
   "cell_type": "code",
   "execution_count": 11,
   "metadata": {},
   "outputs": [
    {
     "data": {
      "text/plain": [
       "<matplotlib.axes._subplots.AxesSubplot at 0x7feecfa7ff10>"
      ]
     },
     "execution_count": 11,
     "metadata": {},
     "output_type": "execute_result"
    },
    {
     "data": {
      "image/png": "[encoded data removed]",
      "text/plain": [
       "<Figure size 576x288 with 1 Axes>"
      ]
     },
     "metadata": {
      "needs_background": "light"
     },
     "output_type": "display_data"
    }
   ],
   "source": [
    "plot_cases(cases_global.diff(), title='Данные по COVID-19 за сутки')"
   ]
  },
  {
   "cell_type": "markdown",
   "metadata": {},
   "source": [
    "## Данные по лидирующим странам"
   ]
  },
  {
   "cell_type": "code",
   "execution_count": 12,
   "metadata": {},
   "outputs": [],
   "source": [
    "def get_top_countries_names(top):\n",
    "    ranked = confirmed.tail(1).rank(axis='columns', ascending=False)\n",
    "    top_countries = ranked.columns[(ranked <= top).values[0]]\n",
    "    top_countries = top_countries[np.argsort(ranked[top_countries].values)[0]]\n",
    "    return top_countries"
   ]
  },
  {
   "cell_type": "code",
   "execution_count": 13,
   "metadata": {},
   "outputs": [
    {
     "data": {
      "text/html": [
       "<div>\n",
       "<style scoped>\n",
       "    .dataframe tbody tr th:only-of-type {\n",
       "        vertical-align: middle;\n",
       "    }\n",
       "\n",
       "    .dataframe tbody tr th {\n",
       "        vertical-align: top;\n",
       "    }\n",
       "\n",
       "    .dataframe thead th {\n",
       "        text-align: right;\n",
       "    }\n",
       "</style>\n",
       "<table border=\"1\" class=\"dataframe\">\n",
       "  <thead>\n",
       "    <tr style=\"text-align: right;\">\n",
       "      <th>Country/Region</th>\n",
       "      <th>US</th>\n",
       "      <th>Italy</th>\n",
       "      <th>Spain</th>\n",
       "      <th>China</th>\n",
       "      <th>Germany</th>\n",
       "      <th>France</th>\n",
       "      <th>Iran</th>\n",
       "      <th>United Kingdom</th>\n",
       "      <th>Switzerland</th>\n",
       "      <th>Belgium</th>\n",
       "    </tr>\n",
       "    <tr>\n",
       "      <th>Дата</th>\n",
       "      <th></th>\n",
       "      <th></th>\n",
       "      <th></th>\n",
       "      <th></th>\n",
       "      <th></th>\n",
       "      <th></th>\n",
       "      <th></th>\n",
       "      <th></th>\n",
       "      <th></th>\n",
       "      <th></th>\n",
       "    </tr>\n",
       "  </thead>\n",
       "  <tbody>\n",
       "    <tr>\n",
       "      <th>2020-03-26</th>\n",
       "      <td>83836</td>\n",
       "      <td>80589</td>\n",
       "      <td>57786</td>\n",
       "      <td>81782</td>\n",
       "      <td>43938</td>\n",
       "      <td>29551</td>\n",
       "      <td>29406</td>\n",
       "      <td>11812</td>\n",
       "      <td>11811</td>\n",
       "      <td>6235</td>\n",
       "    </tr>\n",
       "    <tr>\n",
       "      <th>2020-03-27</th>\n",
       "      <td>101657</td>\n",
       "      <td>86498</td>\n",
       "      <td>65719</td>\n",
       "      <td>81897</td>\n",
       "      <td>50871</td>\n",
       "      <td>33402</td>\n",
       "      <td>32332</td>\n",
       "      <td>14745</td>\n",
       "      <td>12928</td>\n",
       "      <td>7284</td>\n",
       "    </tr>\n",
       "    <tr>\n",
       "      <th>2020-03-28</th>\n",
       "      <td>121478</td>\n",
       "      <td>92472</td>\n",
       "      <td>73235</td>\n",
       "      <td>81999</td>\n",
       "      <td>57695</td>\n",
       "      <td>38105</td>\n",
       "      <td>35408</td>\n",
       "      <td>17312</td>\n",
       "      <td>14076</td>\n",
       "      <td>9134</td>\n",
       "    </tr>\n",
       "    <tr>\n",
       "      <th>2020-03-29</th>\n",
       "      <td>140886</td>\n",
       "      <td>97689</td>\n",
       "      <td>80110</td>\n",
       "      <td>82122</td>\n",
       "      <td>62095</td>\n",
       "      <td>40708</td>\n",
       "      <td>38309</td>\n",
       "      <td>19780</td>\n",
       "      <td>14829</td>\n",
       "      <td>10836</td>\n",
       "    </tr>\n",
       "    <tr>\n",
       "      <th>2020-03-30</th>\n",
       "      <td>161807</td>\n",
       "      <td>101739</td>\n",
       "      <td>87956</td>\n",
       "      <td>82198</td>\n",
       "      <td>66885</td>\n",
       "      <td>45170</td>\n",
       "      <td>41495</td>\n",
       "      <td>22453</td>\n",
       "      <td>15922</td>\n",
       "      <td>11899</td>\n",
       "    </tr>\n",
       "  </tbody>\n",
       "</table>\n",
       "</div>"
      ],
      "text/plain": [
       "Country/Region      US   Italy  Spain  China  Germany  France   Iran  \\\n",
       "Дата                                                                   \n",
       "2020-03-26       83836   80589  57786  81782    43938   29551  29406   \n",
       "2020-03-27      101657   86498  65719  81897    50871   33402  32332   \n",
       "2020-03-28      121478   92472  73235  81999    57695   38105  35408   \n",
       "2020-03-29      140886   97689  80110  82122    62095   40708  38309   \n",
       "2020-03-30      161807  101739  87956  82198    66885   45170  41495   \n",
       "\n",
       "Country/Region  United Kingdom  Switzerland  Belgium  \n",
       "Дата                                                  \n",
       "2020-03-26               11812        11811     6235  \n",
       "2020-03-27               14745        12928     7284  \n",
       "2020-03-28               17312        14076     9134  \n",
       "2020-03-29               19780        14829    10836  \n",
       "2020-03-30               22453        15922    11899  "
      ]
     },
     "execution_count": 13,
     "metadata": {},
     "output_type": "execute_result"
    }
   ],
   "source": [
    "top = 10\n",
    "top_countries = get_top_countries_names(top)\n",
    "confirmed[top_countries].tail()"
   ]
  },
  {
   "cell_type": "code",
   "execution_count": 14,
   "metadata": {},
   "outputs": [
    {
     "data": {
      "text/plain": [
       "<matplotlib.axes._subplots.AxesSubplot at 0x7feecf945250>"
      ]
     },
     "execution_count": 14,
     "metadata": {},
     "output_type": "execute_result"
    },
    {
     "data": {
      "image/png": "[encoded data removed]",
      "text/plain": [
       "<Figure size 576x288 with 1 Axes>"
      ]
     },
     "metadata": {
      "needs_background": "light"
     },
     "output_type": "display_data"
    }
   ],
   "source": [
    "plot_cases(confirmed[top_countries], title='TOP-{} стран по числу заражённых'.format(top))"
   ]
  },
  {
   "cell_type": "markdown",
   "metadata": {},
   "source": [
    "Графики распространения эпидемии во всех странах очень похожи, значит можно попробовать подобрать однотипную модель, описывающую процесс. Посмотрим на то, какая ситуация с числом заражений в день."
   ]
  },
  {
   "cell_type": "code",
   "execution_count": 15,
   "metadata": {},
   "outputs": [
    {
     "data": {
      "text/plain": [
       "<matplotlib.axes._subplots.AxesSubplot at 0x7feecf89b670>"
      ]
     },
     "execution_count": 15,
     "metadata": {},
     "output_type": "execute_result"
    },
    {
     "data": {
      "image/png": "[encoded data removed]",
      "text/plain": [
       "<Figure size 576x288 with 1 Axes>"
      ]
     },
     "metadata": {
      "needs_background": "light"
     },
     "output_type": "display_data"
    }
   ],
   "source": [
    "plot_cases(confirmed[top_countries].diff(),\n",
    "           title='Число новых случаев заражения в день в TOP-{} странах'.format(top))"
   ]
  },
  {
   "cell_type": "markdown",
   "metadata": {},
   "source": [
    "Видно, что скорость заражения в некоторых лидирующих странах превзошла аналогичные показатели у Китая. Таким образом, китайская модель довольно благоприятна и оптимистична, но стала она такой благодаря жёстким карантинным мерам.\n",
    "\n",
    "Теперь посмотрим на летальность по лидирующим странам. "
   ]
  },
  {
   "cell_type": "code",
   "execution_count": 16,
   "metadata": {},
   "outputs": [
    {
     "data": {
      "text/html": [
       "<div>\n",
       "<style scoped>\n",
       "    .dataframe tbody tr th:only-of-type {\n",
       "        vertical-align: middle;\n",
       "    }\n",
       "\n",
       "    .dataframe tbody tr th {\n",
       "        vertical-align: top;\n",
       "    }\n",
       "\n",
       "    .dataframe thead th {\n",
       "        text-align: right;\n",
       "    }\n",
       "</style>\n",
       "<table border=\"1\" class=\"dataframe\">\n",
       "  <thead>\n",
       "    <tr style=\"text-align: right;\">\n",
       "      <th>Country/Region</th>\n",
       "      <th>US</th>\n",
       "      <th>Italy</th>\n",
       "      <th>Spain</th>\n",
       "      <th>China</th>\n",
       "      <th>Germany</th>\n",
       "      <th>France</th>\n",
       "      <th>Iran</th>\n",
       "      <th>United Kingdom</th>\n",
       "      <th>Switzerland</th>\n",
       "      <th>Belgium</th>\n",
       "    </tr>\n",
       "    <tr>\n",
       "      <th>Дата</th>\n",
       "      <th></th>\n",
       "      <th></th>\n",
       "      <th></th>\n",
       "      <th></th>\n",
       "      <th></th>\n",
       "      <th></th>\n",
       "      <th></th>\n",
       "      <th></th>\n",
       "      <th></th>\n",
       "      <th></th>\n",
       "    </tr>\n",
       "  </thead>\n",
       "  <tbody>\n",
       "    <tr>\n",
       "      <th>2020-03-30</th>\n",
       "      <td>1.8</td>\n",
       "      <td>11.4</td>\n",
       "      <td>8.8</td>\n",
       "      <td>4.0</td>\n",
       "      <td>1.0</td>\n",
       "      <td>6.7</td>\n",
       "      <td>6.6</td>\n",
       "      <td>6.3</td>\n",
       "      <td>2.3</td>\n",
       "      <td>4.3</td>\n",
       "    </tr>\n",
       "  </tbody>\n",
       "</table>\n",
       "</div>"
      ],
      "text/plain": [
       "Country/Region   US  Italy  Spain  China  Germany  France  Iran  \\\n",
       "Дата                                                              \n",
       "2020-03-30      1.8   11.4    8.8    4.0      1.0     6.7   6.6   \n",
       "\n",
       "Country/Region  United Kingdom  Switzerland  Belgium  \n",
       "Дата                                                  \n",
       "2020-03-30                 6.3          2.3      4.3  "
      ]
     },
     "execution_count": 16,
     "metadata": {},
     "output_type": "execute_result"
    }
   ],
   "source": [
    "((deaths[top_countries] / confirmed[top_countries]).tail(1) * 100).round(1)"
   ]
  },
  {
   "cell_type": "markdown",
   "metadata": {},
   "source": [
    "Виден очень сильный разброс и довольно большое отличие от среднего по всему миру. \n",
    "\n",
    "Посмотрите на Италию, это невероятно огромные цифры по летальности."
   ]
  },
  {
   "cell_type": "markdown",
   "metadata": {},
   "source": [
    "\n",
    "# Модель роста числа заболевших\n",
    "\n",
    "Как на самом деле моделируют эпидемии можно посмотреть в [Википедии](https://en.wikipedia.org/wiki/Compartmental_models_in_epidemiology). Модифицированные модели под COVID-19 можно пощупать [здесь](https://neherlab.org/covid19/?%7B%22population%22%3A%7B%22populationServed%22%3A144000000%2C%22country%22%3A%22Russian%20Federation%22%2C%22hospitalBeds%22%3A1172000%2C%22ICUBeds%22%3A40000%2C%22suspectedCasesToday%22%3A2%2C%22importsPerDay%22%3A5%2C%22cases%22%3A%22Russian%20Federation%22%7D%2C%22epidemiological%22%3A%7B%22r0%22%3A2.7%2C%22incubationTime%22%3A5%2C%22infectiousPeriod%22%3A3%2C%22lengthHospitalStay%22%3A7%2C%22lengthICUStay%22%3A14%2C%22seasonalForcing%22%3A0.2%2C%22peakMonth%22%3A0%2C%22overflowSeverity%22%3A2%7D%2C%22simulation%22%3A%7B%22simulationTimeRange%22%3A%7B%22tMin%22%3A%222020-03-01T08%3A00%3A00.000Z%22%2C%22tMax%22%3A%222020-12-31T08%3A00%3A00.000Z%22%7D%2C%22numberStochasticRuns%22%3A0%7D%2C%22containment%22%3A%5B%7B%22t%22%3A%222020-03-01T08%3A00%3A00.000Z%22%2C%22y%22%3A0.997554347826087%7D%2C%7B%22t%22%3A%222020-04-04T05%3A20%3A00.000Z%22%2C%22y%22%3A0.8317934782608696%7D%2C%7B%22t%22%3A%222020-05-08T02%3A40%3A00.000Z%22%2C%22y%22%3A0.8%7D%2C%7B%22t%22%3A%222020-06-11T00%3A00%3A00.000Z%22%2C%22y%22%3A0.8%7D%2C%7B%22t%22%3A%222020-07-14T21%3A20%3A00.000Z%22%2C%22y%22%3A0.8%7D%2C%7B%22t%22%3A%222020-08-17T18%3A40%3A00.000Z%22%2C%22y%22%3A0.8%7D%2C%7B%22t%22%3A%222020-09-20T16%3A00%3A00.000Z%22%2C%22y%22%3A0.8%7D%2C%7B%22t%22%3A%222020-10-24T13%3A20%3A00.000Z%22%2C%22y%22%3A0.8%7D%2C%7B%22t%22%3A%222020-11-27T10%3A40%3A00.000Z%22%2C%22y%22%3A0.8%7D%2C%7B%22t%22%3A%222020-12-31T08%3A00%3A00.000Z%22%2C%22y%22%3A0.8%7D%5D%2C%22current%22%3A%7B%22overall%22%3A%22Custom%22%2C%22population%22%3A%22Custom%22%2C%22epidemiological%22%3A%22Custom%22%2C%22containment%22%3A%22Weak%20mitigation%22%7D%7D) и [здесь](http://covidsim.eu/). Эти модели хорошо работают, в том числе и для России (с жёстким карантином прогноз очень благоприятный ~10 тыс. заболевших, без него - около миллиона заболевших к середине июня ([источник](https://www.proekt.media/research/koronavirus-regiony/))), но там можно утонуть в параметрах, мы же хотим что-нибудь попроще, но что более или менее будет работать, конечно. По ссылкам загляуть всё же стоит, дабы оценить насколько примитивным будет наш дальнейший подход.\n",
    "\n",
    "Посмотрим внимательно на Китай и Южную Корею."
   ]
  },
  {
   "cell_type": "code",
   "execution_count": 17,
   "metadata": {},
   "outputs": [
    {
     "data": {
      "image/png": "[encoded data removed]",
      "text/plain": [
       "<Figure size 576x288 with 1 Axes>"
      ]
     },
     "metadata": {
      "needs_background": "light"
     },
     "output_type": "display_data"
    }
   ],
   "source": [
    "ax = plot_cases(confirmed[['China', 'Korea, South']],\n",
    "                title='COVID-19 в Китае и Южной Корее'.format(top))"
   ]
  },
  {
   "cell_type": "markdown",
   "metadata": {},
   "source": [
    "В этих странах распространение замедлилось и довольно давно. Обращают на себя две особенности.\n",
    "\n",
    "* Во-первых, график является не экспонентой, а похож на [логистическу S-кривую](https://ru.wikipedia.org/wiki/%D0%9B%D0%BE%D0%B3%D0%B8%D1%81%D1%82%D0%B8%D1%87%D0%B5%D1%81%D0%BA%D0%BE%D0%B5_%D1%83%D1%80%D0%B0%D0%B2%D0%BD%D0%B5%D0%BD%D0%B8%D0%B5), то есть с медленным ростом в начале и в конце, но с быстрым в середине.\n",
    "\n",
    "* Во-вторых, в отличие от логистической кривой, наши графики не являются симметричными: правая часть более пологая и протяжённая.\n",
    "\n",
    "Мы для простоты опустим вторую особенность и перейдём к описанию возможной модели.\n",
    "\n",
    "\n",
    "# Логистическое уравнение и функция\n",
    "\n",
    "Нас интересует обыкновенное дифференциальное уравнение вида\n",
    "$$\\dfrac{d}{dt} y(t) = cy (t) \\left( 1 - \\dfrac{y(t)}{a} \\right),$$\n",
    "которое называется [логистическим или уравнением Ферхюльста](https://en.wikipedia.org/wiki/Logistic_function).\n",
    "\n",
    "* Уравнение связывает скорость $\\frac{d}{dt}y(t)$ заражения с максимально возможным числом заражённых $a$. Параметр $c$ пропорционален скорости.\n",
    "\n",
    "* Поскольку в правой части уравнения находится и число заражённых $y$ и и максимально возможное число заражённых $a$, то и скорость заражения зависит от них.\n",
    "\n",
    "* Когда все будут заражены, то есть $y = a$, выражение в скобках, а значит и вся правая часть, обратится в нуль и рост прекратится.\n",
    "\n",
    "* Когда число зараженных очень мало, то есть $y << a$, выражение в скобках $\\approx 1$,  в этом случае\n",
    "$$\\dfrac{d}{dt} y(t) = cy(t) \\left( 1 - \\dfrac{y(t)}{a} \\right) \\approx cy(t),$$\n",
    "что является дифференциальным уравнением для экспоненциального роста. То есть действительно в начале эпидемии рост похож на экспоненциальный.\n",
    "\n",
    "Решением логистического уравнения служит **логистическая функция**\n",
    "$$ \\boxed{y (t) = \\dfrac{a}{1 + b\\exp\\left(-c t\\right)}}$$\n",
    "где \n",
    "* $y (t)$ является общим числом заражённых в момент времени $t$,\n",
    "\n",
    "* $\\exp(x)$ это экспоненциальная функция $e^x$,\n",
    "\n",
    "* $b$ это параметр, связанный с исходным числом заражённых а момент $t=0$\n",
    "$$y_0 (t = 0) = \\dfrac{a}{1 + b},$$\n",
    "\n",
    "* $c > 0$ является параметром роста,\n",
    "\n",
    "* $e$ это число Эйлера.\n",
    "\n",
    "Параметр роста $c$ можно попробовать соотнести (не знаю, обоснованно ли) с базовым репродуктивным числом $R_0 = 1 / c$, то есть со средним количеством лиц, напрямую инфицированных больным в течение всего заразного периода при условии попадания его в полностью уязвимую популяцию. Уязвимую здесь означает без иммунитета, как раз наша ситуация. Коротко $R_0$ можно назвать заразностью.\n",
    "\n",
    "Легко также найти производную логистической функции\n",
    "$$\\dfrac{d}{dt}y (t) = \\dfrac{abc \\exp{(-ct)}}{(1 + b\\exp{(-ct)})^2}$$.\n",
    "\n",
    "Логистическая функция является симметричной, поэтому максимальная скорость заражения будет тогда, когда будет заражена половина от всех тех, кто может заразиться, то есть \n",
    "$$ y(t) = \\dfrac{c}{2},\\quad t = \\dfrac{\\ln{b}}{c}.$$\n",
    "\n"
   ]
  },
  {
   "cell_type": "code",
   "execution_count": 18,
   "metadata": {},
   "outputs": [],
   "source": [
    "def logistic(t, a, b, c):\n",
    "    \"\"\"Logistic growth.\n",
    "    \"\"\"\n",
    "    return a / (1 + b * np.exp(-c * t))\n",
    "\n",
    "def logistic_deriv(t, a, b, c):\n",
    "    \"\"\"Logistic growth derivation.\n",
    "    \"\"\"\n",
    "    return a * b * c * np.exp(-c * t) / (1 + b * np.exp(-c * t))**2\n",
    "\n",
    "def maximum_rate(b, c):\n",
    "    return np.log(b) / c"
   ]
  },
  {
   "cell_type": "markdown",
   "metadata": {},
   "source": [
    "# Определение параметров модели\n",
    "\n",
    "\n",
    "Посмотрим теперь, как наша модель работает на реальных данных. \n",
    "\n",
    "Нам необходимо определить параметры модели, то есть коэффициенты $a, b ,c$. Сначала приводим необходимые функции."
   ]
  },
  {
   "cell_type": "code",
   "execution_count": 19,
   "metadata": {},
   "outputs": [],
   "source": [
    "def fit_model(\n",
    "    data_model,\n",
    "    bounds=(0, [10e6, 10e6, 1.0]),\n",
    "    p0=[50000, 30, 0.2]):\n",
    "    \n",
    "    data_model = data_model.dropna()\n",
    "    \n",
    "    delta_t0 = (data_model.index.to_julian_date() -\n",
    "                data_model.index[0].to_julian_date())\n",
    "\n",
    "    params, cov = curve_fit(\n",
    "        logistic, delta_t0,\n",
    "        data_model.values,\n",
    "        bounds=bounds, p0=p0,\n",
    "        max_nfev=1e5\n",
    "    )\n",
    "\n",
    "    params_stdev = np.sqrt(np.diag(cov))\n",
    "    \n",
    "    mrt_days = int(maximum_rate(*params[1:]))\n",
    "    mrt_date = pd.to_timedelta(\n",
    "        mrt_days, unit='days') + data_model.index[0]\n",
    "    mrt = int(logistic_deriv(mrt_days, *params))\n",
    "    \n",
    "    out = {'a': int(params[0]), 'a_std': int(params_stdev[0]),\n",
    "          'b': params[1], 'b_std': params_stdev[1],\n",
    "          'c': params[2], 'c_std': params_stdev[2],\n",
    "           'mrt' : mrt, 'mrt_date':mrt_date, 'mrt_days': mrt_days,\n",
    "           'start_date': data_model.index[0], 'R0' : np.around(1/params[2], 1)\n",
    "          }\n",
    "    return pd.Series(out)\n",
    "\n",
    "def print_report(res):\n",
    "    print('Начало: {:%Y-%m-%d}'.format(res.start_date))\n",
    "    print(\"Максимальное число заражённых:\" \n",
    "          \"a = {:.0f} +\\- {:.0f}\".format(res.a, res.a_std))\n",
    "    print('b = {:.2f} +\\- {:.2f}'.format(res.b, res.b_std))\n",
    "    print('c = {:.4f} +\\- {:.4f}'.format(res.c, res.c_std))\n",
    "    print('Заразность R0 = {:.1f}'.format(res.R0))\n",
    "    print(\"Макс. скорость заражения {:.0f} чел./сутки \" \n",
    "          \"наступит {:%Y-%m-%d}, через {:.0f} дн. после начала.\".format(\n",
    "              res.mrt, res.mrt_date, res.mrt_days))\n",
    "    \n",
    "def plot_prediction(data_model, res, days=90):\n",
    "    dates_extra = pd.to_timedelta(days, unit='days')\n",
    "    date_predict = (pd.date_range(data_model.index[0],\n",
    "                                  data_model.index[0] +\n",
    "                                  dates_extra))\n",
    "    date_predict_delta = (date_predict.to_julian_date() -\n",
    "                          data_model.index[0].to_julian_date())\n",
    "    predicted = pd.Series(\n",
    "        logistic(date_predict_delta, res.a, res.b, res.c),\n",
    "        index=date_predict, name='Логистическая модель')\n",
    "\n",
    "    data_plot = pd.DataFrame({\n",
    "        'Логистическая модель': predicted,\n",
    "        'Реальные данные': data_model})\n",
    "    \n",
    "    ax = plot_cases(data_plot)\n",
    "    ax.axvline(x=res.mrt_date, color='g',\n",
    "               label='Макс. скорость')\n",
    "    ax.legend()\n",
    "    return ax"
   ]
  },
  {
   "cell_type": "markdown",
   "metadata": {},
   "source": [
    "Теперь построим модель для Китая по полным доступным данным."
   ]
  },
  {
   "cell_type": "code",
   "execution_count": 20,
   "metadata": {},
   "outputs": [
    {
     "name": "stdout",
     "output_type": "stream",
     "text": [
      "Начало: 2020-01-22\n",
      "Максимальное число заражённых:a = 81182 +\\- 342\n",
      "b = 50.70 +\\- 5.38\n",
      "c = 0.2206 +\\- 0.0060\n",
      "Заразность R0 = 4.5\n",
      "Макс. скорость заражения 4441 чел./сутки наступит 2020-02-08, через 17 дн. после начала.\n"
     ]
    },
    {
     "data": {
      "text/plain": [
       "<matplotlib.axes._subplots.AxesSubplot at 0x7feecf5ce0d0>"
      ]
     },
     "execution_count": 20,
     "metadata": {},
     "output_type": "execute_result"
    },
    {
     "data": {
      "image/png": "[encoded data removed]",
      "text/plain": [
       "<Figure size 576x288 with 1 Axes>"
      ]
     },
     "metadata": {
      "needs_background": "light"
     },
     "output_type": "display_data"
    }
   ],
   "source": [
    "country = 'China'\n",
    "data_model = confirmed[country].copy()\n",
    "\n",
    "data_model[data_model == 0] = np.nan\n",
    "data_model = data_model.dropna()\n",
    "\n",
    "res = fit_model(data_model)\n",
    "print_report(res)\n",
    "plot_prediction(data_model, res)"
   ]
  },
  {
   "cell_type": "markdown",
   "metadata": {},
   "source": [
    "Выглядит неплохо. Однако сила моделирования в способности предсказывать. Если бы сейчас было начало февраля, смогли бы мы предсказать общее число заражённых в Китае на сегодняшний день? С какого момента модель начинает давать близкие к реальности результаты?\n",
    "\n",
    "Для ответа на эти вопросы проанализируем сходимость педсказанных моделью значений к реальными данным за последние сутки."
   ]
  },
  {
   "cell_type": "code",
   "execution_count": 21,
   "metadata": {},
   "outputs": [],
   "source": [
    "def plot_convergence(data_model, freq='1D', print_iterations=False):\n",
    "    min_d = pd.to_timedelta(10, unit='D')\n",
    "    date_range = pd.date_range(data_model.index[0] +\n",
    "                               min_d, data_model.index[-1],\n",
    "                               freq=freq)[1:]\n",
    "\n",
    "    results = []\n",
    "    for date in date_range:\n",
    "        data_i = data_model.loc[data_model.index[0]:date]\n",
    "        res_i = fit_model(data_i)\n",
    "        res_i['Дата'] = date\n",
    "        predict_date = (confirmed.index[-1].to_julian_date() -\n",
    "                        res_i.start_date.to_julian_date())\n",
    "        res_i['predicted'] = logistic(\n",
    "            predict_date, res_i.a, res_i.b, res_i.c)\n",
    "        results.append(res_i)\n",
    "        if print_iterations:\n",
    "            print('{:%Y-%m-%d} {:10.0f} +\\- {:5.0f}'.format(\n",
    "                date, int(res_i.a), int(res_i.a_std)))\n",
    "\n",
    "    results = pd.DataFrame({'Заболевшие': data_model,\n",
    "                        'Предсказанное число': pd.DataFrame(results)\n",
    "                            .set_index('Дата')['predicted']})\n",
    "    ax = plot_cases(results)\n",
    "    ax.axhline(int(data_model.tail(1).values), color='r',\n",
    "               label='Действительное число')\n",
    "    ax.legend()\n",
    "    return ax"
   ]
  },
  {
   "cell_type": "code",
   "execution_count": 22,
   "metadata": {},
   "outputs": [
    {
     "data": {
      "text/plain": [
       "<matplotlib.axes._subplots.AxesSubplot at 0x7feecf9a4c40>"
      ]
     },
     "execution_count": 22,
     "metadata": {},
     "output_type": "execute_result"
    },
    {
     "data": {
      "image/png": "[encoded data removed]",
      "text/plain": [
       "<Figure size 576x288 with 1 Axes>"
      ]
     },
     "metadata": {
      "needs_background": "light"
     },
     "output_type": "display_data"
    }
   ],
   "source": [
    "plot_convergence(data_model)"
   ]
  },
  {
   "cell_type": "markdown",
   "metadata": {},
   "source": [
    "Порядок предсказанных цифр заражения на сегодня стал близким к действительному в середине февраля, то есть уже ближе к концу роста. Однако в китайских данных был один артефакт в середине, когда скорость резко изменилась, что повлияло на поведение функции.\n",
    "\n",
    "В целом, однако, **предсказательная способность у модели слабая**.\n",
    "\n",
    "# Пробуем делать прогноз\n",
    "\n",
    "## Прогноз по лидирующим странам\n",
    "\n",
    "И всё же попробуем сделать прогноз. У каждой страны есть свои особенности, поэтому модель нужно подбирать для каждого случая в отдельности. Сделаем это для лидирующих стран по числу заражённых."
   ]
  },
  {
   "cell_type": "code",
   "execution_count": 23,
   "metadata": {},
   "outputs": [
    {
     "data": {
      "text/html": [
       "<div>\n",
       "<style scoped>\n",
       "    .dataframe tbody tr th:only-of-type {\n",
       "        vertical-align: middle;\n",
       "    }\n",
       "\n",
       "    .dataframe tbody tr th {\n",
       "        vertical-align: top;\n",
       "    }\n",
       "\n",
       "    .dataframe thead th {\n",
       "        text-align: right;\n",
       "    }\n",
       "</style>\n",
       "<table border=\"1\" class=\"dataframe\">\n",
       "  <thead>\n",
       "    <tr style=\"text-align: right;\">\n",
       "      <th></th>\n",
       "      <th>a</th>\n",
       "      <th>a_std</th>\n",
       "      <th>b</th>\n",
       "      <th>b_std</th>\n",
       "      <th>c</th>\n",
       "      <th>c_std</th>\n",
       "      <th>mrt</th>\n",
       "      <th>mrt_date</th>\n",
       "      <th>mrt_days</th>\n",
       "      <th>start_date</th>\n",
       "      <th>R0</th>\n",
       "    </tr>\n",
       "    <tr>\n",
       "      <th>Country/Region</th>\n",
       "      <th></th>\n",
       "      <th></th>\n",
       "      <th></th>\n",
       "      <th></th>\n",
       "      <th></th>\n",
       "      <th></th>\n",
       "      <th></th>\n",
       "      <th></th>\n",
       "      <th></th>\n",
       "      <th></th>\n",
       "      <th></th>\n",
       "    </tr>\n",
       "  </thead>\n",
       "  <tbody>\n",
       "    <tr>\n",
       "      <th>US</th>\n",
       "      <td>242943</td>\n",
       "      <td>9182</td>\n",
       "      <td>735.32</td>\n",
       "      <td>38.5244</td>\n",
       "      <td>0.307009</td>\n",
       "      <td>0.00533204</td>\n",
       "      <td>18537</td>\n",
       "      <td>2020-03-29</td>\n",
       "      <td>21</td>\n",
       "      <td>2020-03-08</td>\n",
       "      <td>3.3</td>\n",
       "    </tr>\n",
       "    <tr>\n",
       "      <th>Italy</th>\n",
       "      <td>125206</td>\n",
       "      <td>1665</td>\n",
       "      <td>137.599</td>\n",
       "      <td>4.2832</td>\n",
       "      <td>0.18779</td>\n",
       "      <td>0.00212753</td>\n",
       "      <td>5875</td>\n",
       "      <td>2020-03-24</td>\n",
       "      <td>26</td>\n",
       "      <td>2020-02-27</td>\n",
       "      <td>5.3</td>\n",
       "    </tr>\n",
       "    <tr>\n",
       "      <th>Spain</th>\n",
       "      <td>144211</td>\n",
       "      <td>7320</td>\n",
       "      <td>155.232</td>\n",
       "      <td>6.1201</td>\n",
       "      <td>0.22533</td>\n",
       "      <td>0.00507856</td>\n",
       "      <td>8108</td>\n",
       "      <td>2020-03-29</td>\n",
       "      <td>22</td>\n",
       "      <td>2020-03-07</td>\n",
       "      <td>4.4</td>\n",
       "    </tr>\n",
       "    <tr>\n",
       "      <th>China</th>\n",
       "      <td>81144</td>\n",
       "      <td>268</td>\n",
       "      <td>34.9023</td>\n",
       "      <td>2.57812</td>\n",
       "      <td>0.218118</td>\n",
       "      <td>0.00452239</td>\n",
       "      <td>4420</td>\n",
       "      <td>2020-02-10</td>\n",
       "      <td>16</td>\n",
       "      <td>2020-01-25</td>\n",
       "      <td>4.6</td>\n",
       "    </tr>\n",
       "    <tr>\n",
       "      <th>Germany</th>\n",
       "      <td>98770</td>\n",
       "      <td>6449</td>\n",
       "      <td>120.497</td>\n",
       "      <td>7.75291</td>\n",
       "      <td>0.225017</td>\n",
       "      <td>0.00785863</td>\n",
       "      <td>5550</td>\n",
       "      <td>2020-03-28</td>\n",
       "      <td>21</td>\n",
       "      <td>2020-03-07</td>\n",
       "      <td>4.4</td>\n",
       "    </tr>\n",
       "    <tr>\n",
       "      <th>France</th>\n",
       "      <td>78235</td>\n",
       "      <td>3472</td>\n",
       "      <td>109.407</td>\n",
       "      <td>2.94669</td>\n",
       "      <td>0.195808</td>\n",
       "      <td>0.00345506</td>\n",
       "      <td>3794</td>\n",
       "      <td>2020-03-29</td>\n",
       "      <td>23</td>\n",
       "      <td>2020-03-06</td>\n",
       "      <td>5.1</td>\n",
       "    </tr>\n",
       "    <tr>\n",
       "      <th>Iran</th>\n",
       "      <td>61794</td>\n",
       "      <td>9643</td>\n",
       "      <td>25.0661</td>\n",
       "      <td>2.57507</td>\n",
       "      <td>0.12008</td>\n",
       "      <td>0.00922864</td>\n",
       "      <td>1850</td>\n",
       "      <td>2020-03-27</td>\n",
       "      <td>26</td>\n",
       "      <td>2020-03-01</td>\n",
       "      <td>8.3</td>\n",
       "    </tr>\n",
       "    <tr>\n",
       "      <th>United Kingdom</th>\n",
       "      <td>66815</td>\n",
       "      <td>7277</td>\n",
       "      <td>200.272</td>\n",
       "      <td>14.4584</td>\n",
       "      <td>0.217322</td>\n",
       "      <td>0.00421351</td>\n",
       "      <td>3623</td>\n",
       "      <td>2020-04-03</td>\n",
       "      <td>24</td>\n",
       "      <td>2020-03-10</td>\n",
       "      <td>4.6</td>\n",
       "    </tr>\n",
       "    <tr>\n",
       "      <th>Switzerland</th>\n",
       "      <td>17871</td>\n",
       "      <td>292</td>\n",
       "      <td>64.8771</td>\n",
       "      <td>2.65258</td>\n",
       "      <td>0.264588</td>\n",
       "      <td>0.00453069</td>\n",
       "      <td>1169</td>\n",
       "      <td>2020-03-24</td>\n",
       "      <td>15</td>\n",
       "      <td>2020-03-09</td>\n",
       "      <td>3.8</td>\n",
       "    </tr>\n",
       "    <tr>\n",
       "      <th>Belgium</th>\n",
       "      <td>116886</td>\n",
       "      <td>92384</td>\n",
       "      <td>355.869</td>\n",
       "      <td>262.517</td>\n",
       "      <td>0.183218</td>\n",
       "      <td>0.00665554</td>\n",
       "      <td>5353</td>\n",
       "      <td>2020-04-12</td>\n",
       "      <td>32</td>\n",
       "      <td>2020-03-11</td>\n",
       "      <td>5.5</td>\n",
       "    </tr>\n",
       "    <tr>\n",
       "      <th>Netherlands</th>\n",
       "      <td>22750</td>\n",
       "      <td>1006</td>\n",
       "      <td>54.3518</td>\n",
       "      <td>1.487</td>\n",
       "      <td>0.200193</td>\n",
       "      <td>0.00305851</td>\n",
       "      <td>1128</td>\n",
       "      <td>2020-03-30</td>\n",
       "      <td>19</td>\n",
       "      <td>2020-03-11</td>\n",
       "      <td>5</td>\n",
       "    </tr>\n",
       "    <tr>\n",
       "      <th>Turkey</th>\n",
       "      <td>25428</td>\n",
       "      <td>6296</td>\n",
       "      <td>28.3074</td>\n",
       "      <td>5.99955</td>\n",
       "      <td>0.374998</td>\n",
       "      <td>0.0226034</td>\n",
       "      <td>2315</td>\n",
       "      <td>2020-03-31</td>\n",
       "      <td>8</td>\n",
       "      <td>2020-03-23</td>\n",
       "      <td>2.7</td>\n",
       "    </tr>\n",
       "    <tr>\n",
       "      <th>Korea, South</th>\n",
       "      <td>8851</td>\n",
       "      <td>85</td>\n",
       "      <td>10.9696</td>\n",
       "      <td>1.24655</td>\n",
       "      <td>0.267716</td>\n",
       "      <td>0.0127807</td>\n",
       "      <td>583</td>\n",
       "      <td>2020-03-03</td>\n",
       "      <td>8</td>\n",
       "      <td>2020-02-24</td>\n",
       "      <td>3.7</td>\n",
       "    </tr>\n",
       "    <tr>\n",
       "      <th>Austria</th>\n",
       "      <td>12657</td>\n",
       "      <td>225</td>\n",
       "      <td>27.0884</td>\n",
       "      <td>0.426987</td>\n",
       "      <td>0.253498</td>\n",
       "      <td>0.00324919</td>\n",
       "      <td>802</td>\n",
       "      <td>2020-03-27</td>\n",
       "      <td>13</td>\n",
       "      <td>2020-03-14</td>\n",
       "      <td>3.9</td>\n",
       "    </tr>\n",
       "    <tr>\n",
       "      <th>Canada</th>\n",
       "      <td>11376</td>\n",
       "      <td>603</td>\n",
       "      <td>26.8929</td>\n",
       "      <td>0.943988</td>\n",
       "      <td>0.282782</td>\n",
       "      <td>0.0068464</td>\n",
       "      <td>797</td>\n",
       "      <td>2020-03-29</td>\n",
       "      <td>11</td>\n",
       "      <td>2020-03-18</td>\n",
       "      <td>3.5</td>\n",
       "    </tr>\n",
       "  </tbody>\n",
       "</table>\n",
       "</div>"
      ],
      "text/plain": [
       "                     a  a_std        b     b_std         c       c_std    mrt  \\\n",
       "Country/Region                                                                  \n",
       "US              242943   9182   735.32   38.5244  0.307009  0.00533204  18537   \n",
       "Italy           125206   1665  137.599    4.2832   0.18779  0.00212753   5875   \n",
       "Spain           144211   7320  155.232    6.1201   0.22533  0.00507856   8108   \n",
       "China            81144    268  34.9023   2.57812  0.218118  0.00452239   4420   \n",
       "Germany          98770   6449  120.497   7.75291  0.225017  0.00785863   5550   \n",
       "France           78235   3472  109.407   2.94669  0.195808  0.00345506   3794   \n",
       "Iran             61794   9643  25.0661   2.57507   0.12008  0.00922864   1850   \n",
       "United Kingdom   66815   7277  200.272   14.4584  0.217322  0.00421351   3623   \n",
       "Switzerland      17871    292  64.8771   2.65258  0.264588  0.00453069   1169   \n",
       "Belgium         116886  92384  355.869   262.517  0.183218  0.00665554   5353   \n",
       "Netherlands      22750   1006  54.3518     1.487  0.200193  0.00305851   1128   \n",
       "Turkey           25428   6296  28.3074   5.99955  0.374998   0.0226034   2315   \n",
       "Korea, South      8851     85  10.9696   1.24655  0.267716   0.0127807    583   \n",
       "Austria          12657    225  27.0884  0.426987  0.253498  0.00324919    802   \n",
       "Canada           11376    603  26.8929  0.943988  0.282782   0.0068464    797   \n",
       "\n",
       "                  mrt_date mrt_days start_date   R0  \n",
       "Country/Region                                       \n",
       "US              2020-03-29       21 2020-03-08  3.3  \n",
       "Italy           2020-03-24       26 2020-02-27  5.3  \n",
       "Spain           2020-03-29       22 2020-03-07  4.4  \n",
       "China           2020-02-10       16 2020-01-25  4.6  \n",
       "Germany         2020-03-28       21 2020-03-07  4.4  \n",
       "France          2020-03-29       23 2020-03-06  5.1  \n",
       "Iran            2020-03-27       26 2020-03-01  8.3  \n",
       "United Kingdom  2020-04-03       24 2020-03-10  4.6  \n",
       "Switzerland     2020-03-24       15 2020-03-09  3.8  \n",
       "Belgium         2020-04-12       32 2020-03-11  5.5  \n",
       "Netherlands     2020-03-30       19 2020-03-11    5  \n",
       "Turkey          2020-03-31        8 2020-03-23  2.7  \n",
       "Korea, South    2020-03-03        8 2020-02-24  3.7  \n",
       "Austria         2020-03-27       13 2020-03-14  3.9  \n",
       "Canada          2020-03-29       11 2020-03-18  3.5  "
      ]
     },
     "execution_count": 23,
     "metadata": {},
     "output_type": "execute_result"
    }
   ],
   "source": [
    "top = 15\n",
    "top_countries_predict = confirmed[get_top_countries_names(top)].copy()\n",
    "top_countries_predict[top_countries_predict < 200] = np.nan\n",
    "top_countries_predict = top_countries_predict.rolling(4).mean()\n",
    "\n",
    "top_countries_predict = top_countries_predict.apply(\n",
    "    lambda x: fit_model(x)).transpose()\n",
    "top_countries_predict['mrt_date'] = (top_countries_predict['mrt_date']\n",
    "                                     .dt.strftime('%Y-%m-%d'))\n",
    "\n",
    "top_countries_predict"
   ]
  },
  {
   "cell_type": "markdown",
   "metadata": {},
   "source": [
    "Напоминаю, что `a` это максимальное число заражённых, `mrt_date` это дата (спустя `mrt_days` дней с начала моделирования `start_date`), когда скорость заражения будет максимальной и равна `mrt` заражённых в день.\n",
    "\n",
    "Вообще говоря, некоторые решения могут получиться нестабильными, это видно по большому значению `a_std` или по завышенному значению `a`, как и других коэффициентов. Кроме того, решения **очень** чувствительны к ошибкам исходных данных. Это один из недостатков принятого подхода и модели.\n",
    "\n",
    "Кроме того, если дата с максимальным ростом `mrt_date` очень близка к последней дате, на которую вообще имеются данные, то опять же вероятны неточности в решении.\n",
    "\n",
    "Решения будут тем лучше, чем ближе рост к завершению, то есть при приближениии к верхней асимптоте. Понятно, что с точки зрения предсказания это слабое место. Более сложные и реалистичные модели позволяют моделировать процессы распространения эпидемий и на начальных этапах, принимая во внимание многие факторы. Логистическая функция такими свойствами не обладает ввиду своей простоты.\n",
    "\n",
    "`R0` это заразность, то есть сколько один человек заразит других. Для топовых стран:"
   ]
  },
  {
   "cell_type": "code",
   "execution_count": 24,
   "metadata": {},
   "outputs": [
    {
     "data": {
      "text/plain": [
       "'Базовое репродуктивное число COVID-19 R0 = 4.4'"
      ]
     },
     "execution_count": 24,
     "metadata": {},
     "output_type": "execute_result"
    }
   ],
   "source": [
    "'Базовое репродуктивное число COVID-19 R0 = {:.1f}'.format(top_countries_predict.R0.median())"
   ]
  },
  {
   "cell_type": "markdown",
   "metadata": {},
   "source": [
    "Для сравнения:\n",
    "* R0 сезонного гриппа — 0.9 – 2.1;\n",
    "* R0 гриппа «Испанки» — 1.4 – 2.8;\n",
    "* R0 кори — 12-18 .\n",
    "\n",
    "Наш коронавирус на данный момент весьма заразен, куда больше любого из гриппов."
   ]
  }
 ],
 "metadata": {
  "kernelspec": {
   "display_name": "Python 3",
   "language": "python",
   "name": "python3"
  },
  "language_info": {
   "codemirror_mode": {
    "name": "ipython",
    "version": 3
   },
   "file_extension": ".py",
   "mimetype": "text/x-python",
   "name": "python",
   "nbconvert_exporter": "python",
   "pygments_lexer": "ipython3",
   "version": "3.8.2"
  }
 },
 "nbformat": 4,
 "nbformat_minor": 2
}
